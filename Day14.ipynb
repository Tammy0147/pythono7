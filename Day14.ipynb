{
 "cells": [
  {
   "cell_type": "code",
   "execution_count": 2,
   "metadata": {},
   "outputs": [
    {
     "name": "stdout",
     "output_type": "stream",
     "text": [
      "Enter the first number40\n",
      "Enter the second number90\n",
      "0.4444444444444444\n"
     ]
    }
   ],
   "source": [
    "try:\n",
    "    num1 = int(input('Enter the first number'))\n",
    "    num2 = int(input('Enter the second number'))\n",
    "    print(num1/num2)\n",
    "except:\n",
    "    print('You have one or more errors')"
   ]
  },
  {
   "cell_type": "code",
   "execution_count": 6,
   "metadata": {},
   "outputs": [
    {
     "name": "stdout",
     "output_type": "stream",
     "text": [
      "Enter the first number69\n",
      "Enter the second numberp\n",
      "Hey you have entered a wrong value\n"
     ]
    }
   ],
   "source": [
    "try:\n",
    "    num1 = int(input('Enter the first number'))\n",
    "    num2 = int(input('Enter the second number'))\n",
    "    print(num1/num2)\n",
    "except SyntaxError:\n",
    "    print('Hey one or more lines of code is having a syntax error')\n",
    "except EOFError:\n",
    "    print('Hey one of your brackets is open')\n",
    "except ValueError:\n",
    "    print('Hey you have entered a wrong value')\n",
    "except ZeroDivisionError:\n",
    "    print('Hey a number cannot be divisible by zero')"
   ]
  },
  {
   "cell_type": "code",
   "execution_count": 7,
   "metadata": {},
   "outputs": [
    {
     "name": "stdout",
     "output_type": "stream",
     "text": [
      "Enter the first number70\n",
      "Enter the second number9\n",
      "7.777777777777778\n",
      "40353607000000000\n"
     ]
    }
   ],
   "source": [
    "try:\n",
    "    num1 = int(input('Enter the first number'))\n",
    "    num2 = int(input('Enter the second number'))\n",
    "    print(num1/num2)\n",
    "except SyntaxError:\n",
    "    print('Hey one or more lines of code is having a syntax error')\n",
    "except EOFError:\n",
    "    print('Hey one of your brackets is open')\n",
    "except ValueError:\n",
    "    print('Hey you have entered a wrong value')\n",
    "except ZeroDivisionError:\n",
    "    print('Hey a number cannot be divisible by zero')\n",
    "except:\n",
    "    print('You have an error')\n",
    "else:\n",
    "    print(num1**num2)"
   ]
  },
  {
   "cell_type": "code",
   "execution_count": 8,
   "metadata": {},
   "outputs": [
    {
     "name": "stdout",
     "output_type": "stream",
     "text": [
      "Enter the first number50\n",
      "Enter the second number0\n",
      "Hey a number cannot be divisible by zero\n",
      "End of program\n"
     ]
    }
   ],
   "source": [
    "try:\n",
    "    num1 = int(input('Enter the first number'))\n",
    "    num2 = int(input('Enter the second number'))\n",
    "    print(num1/num2)\n",
    "except SyntaxError:\n",
    "    print('Hey one or more lines of code is having a syntax error')\n",
    "except EOFError:\n",
    "    print('Hey one of your brackets is open')\n",
    "except ValueError:\n",
    "    print('Hey you have entered a wrong value')\n",
    "except ZeroDivisionError:\n",
    "    print('Hey a number cannot be divisible by zero')\n",
    "except:\n",
    "    print('You have an error')\n",
    "else:\n",
    "    print(num1**num2)\n",
    "finally:\n",
    "    print('End of program')"
   ]
  },
  {
   "cell_type": "markdown",
   "metadata": {},
   "source": [
    "# using error handling write a simple calculator that will add, subtract, multiply and divide any two number a user provide"
   ]
  },
  {
   "cell_type": "code",
   "execution_count": 19,
   "metadata": {},
   "outputs": [
    {
     "name": "stdout",
     "output_type": "stream",
     "text": [
      "Enter a number70\n",
      "Enter a number20\n",
      "enter choice 1,2,3,42\n",
      "You are good to go\n",
      "End of program\n"
     ]
    }
   ],
   "source": [
    "try:\n",
    "    num1 = int(input('Enter a number'))\n",
    "    num2 = int(input('Enter a number'))\n",
    "    choice = input('enter choice 1,2,3,4')\n",
    "    if choice == 1 :\n",
    "        print(num1 + num2)\n",
    "    elif choice == 2 :\n",
    "        print(num1 - num2)\n",
    "    elif choice == 3 :\n",
    "        print(num1 ** num2)\n",
    "    elif choice == 4 :\n",
    "        print(num1 / num2)\n",
    "except SyntaxError:\n",
    "    print('Hey one or more lines of code is having a syntax error')\n",
    "except EOFError:\n",
    "    print('Hey one of your brackets is open')\n",
    "except ValueError:\n",
    "    print('Hey you have entered a wrong value')\n",
    "except ZeroDivisionError:\n",
    "    print('Hey a number cannot be divisible by zero')\n",
    "except:\n",
    "    print('You have an error')\n",
    "else:\n",
    "    print('You are good to go')\n",
    "finally:\n",
    "    print('End of program')"
   ]
  },
  {
   "cell_type": "code",
   "execution_count": null,
   "metadata": {},
   "outputs": [],
   "source": []
  }
 ],
 "metadata": {
  "kernelspec": {
   "display_name": "Python 3",
   "language": "python",
   "name": "python3"
  },
  "language_info": {
   "codemirror_mode": {
    "name": "ipython",
    "version": 3
   },
   "file_extension": ".py",
   "mimetype": "text/x-python",
   "name": "python",
   "nbconvert_exporter": "python",
   "pygments_lexer": "ipython3",
   "version": "3.8.5"
  }
 },
 "nbformat": 4,
 "nbformat_minor": 4
}
