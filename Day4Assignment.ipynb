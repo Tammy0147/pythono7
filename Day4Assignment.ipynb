{
 "cells": [
  {
   "cell_type": "code",
   "execution_count": 25,
   "metadata": {},
   "outputs": [
    {
     "name": "stdout",
     "output_type": "stream",
     "text": [
      "please provide number of years6\n",
      "please provide salary67000\n",
      "You are entitled to 70350.0\n"
     ]
    }
   ],
   "source": [
    "years = int(input('please provide number of years'))\n",
    "salary = int(input('please provide salary'))\n",
    "bonus = salary / 100 * 5 + salary\n",
    "if years > 5:\n",
    "    print(f'You are entitled to {bonus}')\n",
    "else:\n",
    "    print(f'You are not entitled to {bonus}')"
   ]
  },
  {
   "cell_type": "code",
   "execution_count": 26,
   "metadata": {},
   "outputs": [
    {
     "name": "stdout",
     "output_type": "stream",
     "text": [
      "please provide a number6\n",
      "please provide a number7\n",
      "7\n"
     ]
    }
   ],
   "source": [
    "num1 = int(input('please provide a number'))\n",
    "num2 = int(input('please provide a number'))\n",
    "if num1 > num2:\n",
    "    print(f'{num1}')\n",
    "else:\n",
    "    print(f'{num2}')"
   ]
  },
  {
   "cell_type": "code",
   "execution_count": 27,
   "metadata": {},
   "outputs": [
    {
     "name": "stdout",
     "output_type": "stream",
     "text": [
      "Please provide age5\n",
      "Please provide age8\n",
      "Please provide age9\n",
      "8\n"
     ]
    }
   ],
   "source": [
    "age1 = int(input('Please provide age'))\n",
    "age2 = int(input('Please provide age'))\n",
    "age3 = int(input('Please provide age'))\n",
    "if age1 > age2 and age3:\n",
    "    print(f'{age1}')\n",
    "elif age2 > age1 and age3:\n",
    "    print(f'{age2}')\n",
    "elif age3 > age1 and age2:\n",
    "    print(f'{age3}')"
   ]
  },
  {
   "cell_type": "code",
   "execution_count": 28,
   "metadata": {},
   "outputs": [
    {
     "name": "stdout",
     "output_type": "stream",
     "text": [
      "number of classes held60\n",
      "number of classes attended45\n",
      "You are eligible for the exams\n"
     ]
    }
   ],
   "source": [
    "nch = int(input('number of classes held'))\n",
    "nca = int(input('number of classes attended'))\n",
    "ptg= nch * nca / 100 * 75\n",
    "if ptg >= 75:\n",
    "    print(f'You are eligible for the exams')\n",
    "else:\n",
    "    print(f'You are not eligible for the exams')"
   ]
  },
  {
   "cell_type": "code",
   "execution_count": null,
   "metadata": {},
   "outputs": [],
   "source": []
  }
 ],
 "metadata": {
  "kernelspec": {
   "display_name": "Python 3",
   "language": "python",
   "name": "python3"
  },
  "language_info": {
   "codemirror_mode": {
    "name": "ipython",
    "version": 3
   },
   "file_extension": ".py",
   "mimetype": "text/x-python",
   "name": "python",
   "nbconvert_exporter": "python",
   "pygments_lexer": "ipython3",
   "version": "3.8.5"
  }
 },
 "nbformat": 4,
 "nbformat_minor": 4
}
