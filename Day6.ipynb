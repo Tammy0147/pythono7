{
 "cells": [
  {
   "cell_type": "code",
   "execution_count": 1,
   "metadata": {},
   "outputs": [
    {
     "name": "stdout",
     "output_type": "stream",
     "text": [
      "Welcome to python class\n"
     ]
    }
   ],
   "source": [
    "def greet():# a function without a parameter or an argument\n",
    "    print('Welcome to python class')\n",
    "greet()    "
   ]
  },
  {
   "cell_type": "code",
   "execution_count": 3,
   "metadata": {},
   "outputs": [
    {
     "name": "stdout",
     "output_type": "stream",
     "text": [
      "Welcome to python class Tammy\n"
     ]
    }
   ],
   "source": [
    "def greet2(name):# a function with a parameter or an argument\n",
    "    print(f'Welcome to python class {name}')\n",
    "greet2('Tammy')    "
   ]
  },
  {
   "cell_type": "code",
   "execution_count": 4,
   "metadata": {},
   "outputs": [
    {
     "name": "stdout",
     "output_type": "stream",
     "text": [
      "Welcome to python class Davis\n"
     ]
    }
   ],
   "source": [
    "greet2('Davis')"
   ]
  },
  {
   "cell_type": "code",
   "execution_count": 9,
   "metadata": {},
   "outputs": [
    {
     "name": "stdout",
     "output_type": "stream",
     "text": [
      "Please provide your name:Davis\n",
      "Please provide your gender:Male\n",
      "Please provide your age:23\n",
      "Welcome to our Presidential election Davis\n",
      "Congratulations you are eligble to vote proceed to the po\n"
     ]
    }
   ],
   "source": [
    "def votingsys(name,gender,age):\n",
    "    print(f'Welcome to our Presidential election {name}')\n",
    "    \n",
    "    if age >= 18:\n",
    "        print('Congratulations you are eligble to vote proceed to the po')\n",
    "    else:\n",
    "        print('OPPS, You are not eligble to vote')\n",
    "votingsys(input('Please provide your name:'),input('Please provide your gender:'),int(input('Please provide your age:')))        "
   ]
  },
  {
   "cell_type": "code",
   "execution_count": 10,
   "metadata": {},
   "outputs": [
    {
     "name": "stdout",
     "output_type": "stream",
     "text": [
      "Welcome to our Presidential election Tammy\n",
      "Congratulations you are eligible to vote please proceed to the po\n"
     ]
    }
   ],
   "source": [
    "def votesys(name,gender,age = 18):\n",
    "    print(f'Welcome to our Presidential election {name}')\n",
    "    if age >= 18:\n",
    "        print('Congratulations you are eligible to vote please proceed to the po')\n",
    "    else:\n",
    "        print('OOPS, You are not eligible to vote')\n",
    "votesys('Tammy','Male')        "
   ]
  },
  {
   "cell_type": "code",
   "execution_count": 11,
   "metadata": {},
   "outputs": [
    {
     "name": "stdout",
     "output_type": "stream",
     "text": [
      "Welcome to our Presidential election Tammy\n",
      "OOPS, You are not eligible to vote\n"
     ]
    }
   ],
   "source": [
    "votesys('Tammy','Male',17)"
   ]
  },
  {
   "cell_type": "markdown",
   "metadata": {},
   "source": [
    "# Exercise 1\n",
    "# A man gained 25% by selling an article for 800. Write a function to find the cost price of the article\n"
   ]
  },
  {
   "cell_type": "code",
   "execution_count": 20,
   "metadata": {},
   "outputs": [
    {
     "name": "stdout",
     "output_type": "stream",
     "text": [
      "The cost price is640.0\n"
     ]
    }
   ],
   "source": [
    "def article():\n",
    "    sell = 800\n",
    "    percg = 100 / 125\n",
    "    cp = sell*percg\n",
    "    print(f'The cost price is{cp}')\n",
    "article()    "
   ]
  },
  {
   "cell_type": "code",
   "execution_count": 21,
   "metadata": {},
   "outputs": [
    {
     "name": "stdout",
     "output_type": "stream",
     "text": [
      "The selling price is 212.5\n"
     ]
    }
   ],
   "source": [
    "def hat():\n",
    "    cp = 250\n",
    "    loss = 15/100 * 250\n",
    "    sp = cp - loss\n",
    "    print(f'The selling price is {sp}')\n",
    "hat()    "
   ]
  },
  {
   "cell_type": "code",
   "execution_count": 22,
   "metadata": {},
   "outputs": [
    {
     "name": "stdout",
     "output_type": "stream",
     "text": [
      "The gain percentage is 37.5%\n"
     ]
    }
   ],
   "source": [
    "def orange():\n",
    "    sp = 55\n",
    "    cp = 40\n",
    "    gain = sp - cp\n",
    "    gainper = gain/cp * 100\n",
    "    print(f'The gain percentage is {gainper}%')\n",
    "orange()    "
   ]
  },
  {
   "cell_type": "code",
   "execution_count": 25,
   "metadata": {},
   "outputs": [
    {
     "name": "stdout",
     "output_type": "stream",
     "text": [
      "<class 'tuple'>\n",
      "The average point of num is 57.63636363636363\n"
     ]
    }
   ],
   "source": [
    "def avg(*num):\n",
    "    print(type(num))\n",
    "    print(f'The average point of num is {sum(num)/len(num)}')\n",
    "avg(90,78,97,70,98,55,43,64,12,10,17)    "
   ]
  },
  {
   "cell_type": "code",
   "execution_count": 26,
   "metadata": {},
   "outputs": [
    {
     "name": "stdout",
     "output_type": "stream",
     "text": [
      "<class 'dict'>\n",
      "First:['Tammy', 'Davis']\n",
      "Gender:Male\n",
      "Age:75\n"
     ]
    }
   ],
   "source": [
    "def details(**pen):\n",
    "    print(type(pen))\n",
    "    for key,value in pen.items():\n",
    "        print(f'{key}:{value}')\n",
    "details(First =['Tammy','Davis'],Gender ='Male',Age = 75)        "
   ]
  },
  {
   "cell_type": "code",
   "execution_count": null,
   "metadata": {},
   "outputs": [],
   "source": []
  }
 ],
 "metadata": {
  "kernelspec": {
   "display_name": "Python 3",
   "language": "python",
   "name": "python3"
  },
  "language_info": {
   "codemirror_mode": {
    "name": "ipython",
    "version": 3
   },
   "file_extension": ".py",
   "mimetype": "text/x-python",
   "name": "python",
   "nbconvert_exporter": "python",
   "pygments_lexer": "ipython3",
   "version": "3.8.5"
  }
 },
 "nbformat": 4,
 "nbformat_minor": 4
}
