{
 "cells": [
  {
   "cell_type": "code",
   "execution_count": 2,
   "metadata": {},
   "outputs": [],
   "source": [
    "class game:\n",
    "    atr1 = 'brand'\n",
    "    atr2 = 'model'\n",
    "    atr3 = 'color'\n",
    "    atr4 = 'year'\n",
    "    atr5 = 'speed'\n",
    "obj = game()    \n"
   ]
  },
  {
   "cell_type": "code",
   "execution_count": 18,
   "metadata": {},
   "outputs": [],
   "source": [
    "class game:\n",
    "    def __init__(self,brand,model,color,year,speed):\n",
    "        self.brand =brand\n",
    "        self.model = model\n",
    "        self.color = color\n",
    "        self.year = year\n",
    "        self.speed = speed\n",
    "\n",
    "    def start(self):\n",
    "        print(f'start')\n",
    "    def gear(self,choice):\n",
    "        if choice == 1:\n",
    "            print(f'Gear 1')\n",
    "        elif choice == 2:\n",
    "            print(f'Gear 2')\n",
    "        elif choice == 3:\n",
    "            print(f'lets move faster')\n",
    "        elif choice == 4:\n",
    "            print(f'They cant keep up')\n",
    "        elif choice == 5:\n",
    "            print(f'you are invinsible')\n",
    "        elif choice == 6:\n",
    "            print(f'please reverse and go back on track')\n",
    "    def nitro(self,choice):\n",
    "        if choice == 1:\n",
    "            print(f'engage nitro')\n",
    "        elif choice == 2:\n",
    "            print(f'disengage nitro')\n",
    "    def stop(self):\n",
    "         print(f'Your car has stopped')\n",
    "                 \n",
    "game1 = game('benz','s class','black','2015','200')\n"
   ]
  },
  {
   "cell_type": "code",
   "execution_count": 19,
   "metadata": {},
   "outputs": [
    {
     "name": "stdout",
     "output_type": "stream",
     "text": [
      "start\n",
      "None\n",
      "They cant keep up\n",
      "None\n",
      "engage nitro\n",
      "None\n",
      "Your car has stopped\n",
      "None\n"
     ]
    }
   ],
   "source": [
    "print(game1.start())\n",
    "print(game1.gear(4))\n",
    "print(game1.nitro(1))\n",
    "print(game1.stop())"
   ]
  },
  {
   "cell_type": "code",
   "execution_count": 20,
   "metadata": {},
   "outputs": [],
   "source": [
    "class game2(game):\n",
    "    def openroof(self,choice):\n",
    "        if choice == 1:\n",
    "            print('Roof opened')\n",
    "        elif choice == 2:\n",
    "            print('Roof closed')\n",
    "game2 = game2('Chevrolette','Camaro','Yellow',2020,400)"
   ]
  },
  {
   "cell_type": "code",
   "execution_count": 21,
   "metadata": {},
   "outputs": [
    {
     "name": "stdout",
     "output_type": "stream",
     "text": [
      "start\n",
      "None\n",
      "you are invinsible\n",
      "None\n",
      "engage nitro\n",
      "None\n",
      "Your car has stopped\n",
      "None\n"
     ]
    }
   ],
   "source": [
    "print(game2.start())\n",
    "print(game2.gear(5))\n",
    "print(game2.nitro(1))\n",
    "print(game2.stop())"
   ]
  },
  {
   "cell_type": "code",
   "execution_count": null,
   "metadata": {},
   "outputs": [],
   "source": []
  }
 ],
 "metadata": {
  "kernelspec": {
   "display_name": "Python 3",
   "language": "python",
   "name": "python3"
  },
  "language_info": {
   "codemirror_mode": {
    "name": "ipython",
    "version": 3
   },
   "file_extension": ".py",
   "mimetype": "text/x-python",
   "name": "python",
   "nbconvert_exporter": "python",
   "pygments_lexer": "ipython3",
   "version": "3.8.5"
  }
 },
 "nbformat": 4,
 "nbformat_minor": 4
}
