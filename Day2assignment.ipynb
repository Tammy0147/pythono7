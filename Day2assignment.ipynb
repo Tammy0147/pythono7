{
 "cells": [
  {
   "cell_type": "markdown",
   "metadata": {},
   "source": [
    "#  Assignment"
   ]
  },
  {
   "cell_type": "markdown",
   "metadata": {},
   "source": [
    "# 1. Write a program to find the amount that #5000 becomes if saved for 3 years at 6% per annum compound interest"
   ]
  },
  {
   "cell_type": "code",
   "execution_count": 19,
   "metadata": {},
   "outputs": [
    {
     "name": "stdout",
     "output_type": "stream",
     "text": [
      "15900.0\n"
     ]
    }
   ],
   "source": [
    "p = 5000\n",
    "t = 3\n",
    "r = 0.06\n",
    "n = 1\n",
    "A = p * (1 + r / n)**n*t\n",
    "print(A)\n"
   ]
  },
  {
   "cell_type": "markdown",
   "metadata": {},
   "source": [
    "#  2. Membersof a family estimate that they will need 700000 to improve their houses in 3 years time. they deposited 550000 at 5% per annum compound interest, they add 25000 at the end of the 1st year and 35000 at the end of the 2nd year. Write a program to find 1. their total savings after 3 years  2. by how much are their saving greater or less than 700000 needed,"
   ]
  },
  {
   "cell_type": "markdown",
   "metadata": {},
   "source": [
    "# 1."
   ]
  },
  {
   "cell_type": "code",
   "execution_count": 34,
   "metadata": {},
   "outputs": [
    {
     "name": "stdout",
     "output_type": "stream",
     "text": [
      "577500.0\n",
      "602500\n",
      "30125.0\n",
      "632625\n",
      "667625\n",
      "33381.25\n",
      "701006.25\n"
     ]
    }
   ],
   "source": [
    "p = 700000\n",
    "dep = 550000\n",
    "r = 0.05\n",
    "fyd = 25000\n",
    "syd = 35000\n",
    "t = 3\n",
    "n = 1\n",
    "print(dep * r + dep)\n",
    "fy = 577500\n",
    "print(fy + fyd)\n",
    "y = 602500\n",
    "print(y * r)\n",
    "fyp = 30125\n",
    "scndy = y + fyp\n",
    "print(scndy)\n",
    "syt = 632625\n",
    "print(syt + syd)\n",
    "syr = 667625\n",
    "syp = syr * r\n",
    "print(syp)\n",
    "y3r = 33381.25\n",
    "y3 = syr + y3r\n",
    "print(y3)"
   ]
  },
  {
   "cell_type": "markdown",
   "metadata": {},
   "source": [
    "# 2."
   ]
  },
  {
   "cell_type": "code",
   "execution_count": 35,
   "metadata": {},
   "outputs": [
    {
     "name": "stdout",
     "output_type": "stream",
     "text": [
      "1006.25\n"
     ]
    }
   ],
   "source": [
    "total = 701006.25\n",
    "p = 700000\n",
    "print(total - p)"
   ]
  },
  {
   "cell_type": "code",
   "execution_count": null,
   "metadata": {},
   "outputs": [],
   "source": []
  }
 ],
 "metadata": {
  "kernelspec": {
   "display_name": "Python 3",
   "language": "python",
   "name": "python3"
  },
  "language_info": {
   "codemirror_mode": {
    "name": "ipython",
    "version": 3
   },
   "file_extension": ".py",
   "mimetype": "text/x-python",
   "name": "python",
   "nbconvert_exporter": "python",
   "pygments_lexer": "ipython3",
   "version": "3.8.5"
  }
 },
 "nbformat": 4,
 "nbformat_minor": 4
}
