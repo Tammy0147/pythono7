{
 "cells": [
  {
   "cell_type": "markdown",
   "metadata": {},
   "source": [
    "# Loop"
   ]
  },
  {
   "cell_type": "code",
   "execution_count": 1,
   "metadata": {},
   "outputs": [
    {
     "name": "stdout",
     "output_type": "stream",
     "text": [
      "p\n",
      "y\n",
      "t\n",
      "h\n",
      "o\n",
      "n\n"
     ]
    }
   ],
   "source": [
    "word = 'python'\n",
    "for char in word:\n",
    "    print(char)"
   ]
  },
  {
   "cell_type": "code",
   "execution_count": 2,
   "metadata": {},
   "outputs": [
    {
     "name": "stdout",
     "output_type": "stream",
     "text": [
      "pppp\n",
      "yyyy\n",
      "tttt\n",
      "hhhh\n",
      "oooo\n",
      "nnnn\n"
     ]
    }
   ],
   "source": [
    "word = 'python'\n",
    "for char in word:\n",
    "    print(char * 4)"
   ]
  },
  {
   "cell_type": "code",
   "execution_count": 3,
   "metadata": {},
   "outputs": [
    {
     "name": "stdout",
     "output_type": "stream",
     "text": [
      "pppp\n",
      "yyy\n"
     ]
    }
   ],
   "source": [
    "word = 'python'\n",
    "for char in word:\n",
    "    if char == 'p':\n",
    "        print(char * 4)\n",
    "    elif char == 'y':\n",
    "        print(char *3)"
   ]
  },
  {
   "cell_type": "code",
   "execution_count": 4,
   "metadata": {},
   "outputs": [
    {
     "name": "stdout",
     "output_type": "stream",
     "text": [
      "the sqrt of 25 is 5.0\n",
      "the sqrt of 89 is 9.433981132056603\n",
      "the sqrt of 74 is 8.602325267042627\n",
      "the sqrt of 58 is 7.615773105863909\n",
      "the sqrt of 20 is 4.47213595499958\n",
      "the sqrt of 35 is 5.916079783099616\n",
      "the sqrt of 40 is 6.324555320336759\n"
     ]
    }
   ],
   "source": [
    "numbers = [25,89,74,58,20,35,40]\n",
    "import math\n",
    "for num in numbers:\n",
    "    print(f'the sqrt of {num} is {math.sqrt(num)}')"
   ]
  },
  {
   "cell_type": "code",
   "execution_count": 5,
   "metadata": {},
   "outputs": [
    {
     "name": "stdout",
     "output_type": "stream",
     "text": [
      "James : 80\n",
      "Mary : 90\n",
      "Jane : 70\n",
      "Seyi : 58\n",
      "Winnie : 85\n"
     ]
    }
   ],
   "source": [
    "score = {\n",
    "    'James':80,\n",
    "    'Mary':90,\n",
    "    'Jane':70,\n",
    "    'Seyi':58,\n",
    "    'Winnie':85\n",
    "}\n",
    "for key, value in score.items():\n",
    "    print(key,':',value)"
   ]
  },
  {
   "cell_type": "code",
   "execution_count": 6,
   "metadata": {},
   "outputs": [
    {
     "name": "stdout",
     "output_type": "stream",
     "text": [
      "James\n",
      "Mary\n"
     ]
    }
   ],
   "source": [
    "score = {\n",
    "    'James':80,\n",
    "    'Mary':90,\n",
    "    'Jane':70,\n",
    "    'Seyi':58,\n",
    "    'Winnie':85\n",
    "}\n",
    "for key in score:\n",
    "    if key == 'Jane':\n",
    "        break\n",
    "    print(key)\n",
    "    "
   ]
  },
  {
   "cell_type": "code",
   "execution_count": 7,
   "metadata": {},
   "outputs": [
    {
     "name": "stdout",
     "output_type": "stream",
     "text": [
      "James : 80\n",
      "Mary : 90\n"
     ]
    }
   ],
   "source": [
    "score = {\n",
    "    'James':80,\n",
    "    'Mary':90,\n",
    "    'Jane':70,\n",
    "    'Seyi':58,\n",
    "    'Winnie':85\n",
    "}\n",
    "for key in score:\n",
    "    if key == 'Jane':\n",
    "        break\n",
    "    print(key,':',score[key])\n",
    "    "
   ]
  },
  {
   "cell_type": "code",
   "execution_count": 8,
   "metadata": {},
   "outputs": [
    {
     "name": "stdout",
     "output_type": "stream",
     "text": [
      "80\n",
      "90\n"
     ]
    }
   ],
   "source": [
    "score = {\n",
    "    'James':80,\n",
    "    'Mary':90,\n",
    "    'Jane':70,\n",
    "    'Seyi':58,\n",
    "    'Winnie':85\n",
    "}\n",
    "for key in score:\n",
    "    if key == 'Jane':\n",
    "        break\n",
    "    print(score[key])"
   ]
  },
  {
   "cell_type": "code",
   "execution_count": 10,
   "metadata": {},
   "outputs": [
    {
     "name": "stdout",
     "output_type": "stream",
     "text": [
      "15\n",
      "16\n",
      "17\n",
      "18\n",
      "19\n",
      "20\n"
     ]
    }
   ],
   "source": [
    "for i in range(15,21):\n",
    "    print(i)"
   ]
  },
  {
   "cell_type": "code",
   "execution_count": 12,
   "metadata": {},
   "outputs": [
    {
     "name": "stdout",
     "output_type": "stream",
     "text": [
      "Please provide a number25\n",
      "25 x 1 = 25\n",
      "25 x 2 = 50\n",
      "25 x 3 = 75\n",
      "25 x 4 = 100\n",
      "25 x 5 = 125\n",
      "25 x 6 = 150\n",
      "25 x 7 = 175\n",
      "25 x 8 = 200\n",
      "25 x 9 = 225\n",
      "25 x 10 = 250\n",
      "25 x 11 = 275\n",
      "25 x 12 = 300\n"
     ]
    }
   ],
   "source": [
    "num = int(input('Please provide a number'))\n",
    "for i in range(1,13):\n",
    "    print(f'{num} x {i} = {num*i}')"
   ]
  },
  {
   "cell_type": "markdown",
   "metadata": {},
   "source": [
    "# While Loop"
   ]
  },
  {
   "cell_type": "code",
   "execution_count": 15,
   "metadata": {},
   "outputs": [
    {
     "name": "stdout",
     "output_type": "stream",
     "text": [
      "[50, 66, 73, 72, 75, 54, 73, 53, 59, 65, 58, 71, 74, 68, 66, 63, 51, 61, 66, 68, 55, 75, 74, 73, 65, 54, 64, 75, 68, 70, 75, 56, 75, 60, 53, 56, 58, 52, 59, 57, 58, 54, 60, 52, 69, 66, 73, 53, 52, 75, 59, 58, 64, 64, 66, 71, 74, 75, 51, 65, 75, 71, 52, 62, 60, 52, 50, 57, 59, 59, 54, 71, 54, 72, 59, 65, 55, 74, 66, 68, 55, 50, 73, 75, 54, 65, 55, 71, 66, 69, 51, 71, 65, 65, 67, 57, 53, 61, 55, 51]\n"
     ]
    }
   ],
   "source": [
    "import random\n",
    "numbers =[]\n",
    "counter = 1\n",
    "while counter <= 100:\n",
    "    num = random.randint(50,75)\n",
    "    numbers.append(num)\n",
    "    counter = counter + 1\n",
    "print(numbers)"
   ]
  },
  {
   "cell_type": "code",
   "execution_count": 14,
   "metadata": {},
   "outputs": [
    {
     "name": "stdout",
     "output_type": "stream",
     "text": [
      "[68, 75, 72, 50, 65, 71, 70, 72, 75, 70, 64, 58, 63, 53, 75, 71, 60, 64, 57, 57, 63, 65, 66, 56, 54, 52, 50, 74, 55, 69, 71, 74, 67, 71, 52, 59, 72, 73, 61, 68, 74, 57, 57, 67, 63, 53, 63, 55, 71, 68, 50, 66, 75, 63, 51, 68, 73, 69, 62, 58, 68, 54, 59, 64, 74, 54, 74, 66, 55, 57, 55, 59, 54, 63, 64, 60, 58, 67, 72, 59, 58, 61, 55, 67, 54, 65, 72, 57, 52, 56, 53, 68, 65, 68, 59, 54, 59, 61, 50, 59]\n"
     ]
    }
   ],
   "source": [
    "print(numbers)"
   ]
  },
  {
   "cell_type": "code",
   "execution_count": 17,
   "metadata": {},
   "outputs": [
    {
     "name": "stdout",
     "output_type": "stream",
     "text": [
      "Player1:2\n",
      "Player2:3\n",
      "player2 wins\n",
      "Player1:6\n",
      "Player2:3\n",
      "player1 wins\n",
      "Player1:2\n",
      "Player2:5\n",
      "player2 wins\n",
      "Player1:3\n",
      "Player2:4\n",
      "player2 wins\n",
      "Player1:6\n",
      "Player2:3\n",
      "player1 wins\n",
      "Player1:2\n",
      "Player2:2\n",
      "It is a draw\n",
      "Player1:5\n",
      "Player2:3\n",
      "player1 wins\n",
      "Player1:5\n",
      "Player2:5\n",
      "It is a draw\n",
      "Player1:2\n",
      "Player2:1\n",
      "player1 wins\n",
      "Player1:6\n",
      "Player2:1\n",
      "player1 wins\n",
      "The total point for player1 is 10\n",
      "The total point for player2 is 6\n",
      "Player1 is the overall winner\n"
     ]
    }
   ],
   "source": [
    "'''\n",
    "A dice game that will be simulated 10 times for two players\n",
    "for every iteration of the game\n",
    "if player1 wins 2 point will be given\n",
    "if player2 wins 2 point will be given\n",
    "else if it is a draw no point will be given\n",
    "\n",
    "'''\n",
    "import random #For generating numbers for the dice\n",
    "player1 = random.randint(1,6)\n",
    "player2 = random.randint(1,6)\n",
    "\n",
    "#Declearing a variable to the point for player one and player two\n",
    "player_1_score = 0\n",
    "player_2_score = 0\n",
    "\n",
    "for i in range(1,11):\n",
    "    # Generating dice for player1 and player2\n",
    "    player1 = random.randint(1,6)\n",
    "    player2 = random.randint(1,6)\n",
    "    if player1 > player2:\n",
    "        print(f'Player1:{player1}')\n",
    "        print(f'Player2:{player2}')\n",
    "        print(f'player1 wins')\n",
    "        player_1_score = player_1_score + 2\n",
    "    elif player2 > player1:\n",
    "        print(f'Player1:{player1}')\n",
    "        print(f'Player2:{player2}')\n",
    "        print(f'player2 wins')\n",
    "        player_2_score = player_2_score + 2\n",
    "    else:\n",
    "        print(f'Player1:{player1}')\n",
    "        print(f'Player2:{player2}')\n",
    "        print('It is a draw')\n",
    "        \n",
    "print(f'The total point for player1 is {player_1_score}')\n",
    "print(f'The total point for player2 is {player_2_score}')\n",
    "if player_1_score > player_2_score:\n",
    "    print(f'Player1 is the overall winner')\n",
    "elif player_2_score > player_1_score:\n",
    "    print(f'Player2 is the winner')\n",
    "else:\n",
    "    print(f'Its a draw')\n",
    "      "
   ]
  },
  {
   "cell_type": "code",
   "execution_count": null,
   "metadata": {},
   "outputs": [],
   "source": []
  }
 ],
 "metadata": {
  "kernelspec": {
   "display_name": "Python 3",
   "language": "python",
   "name": "python3"
  },
  "language_info": {
   "codemirror_mode": {
    "name": "ipython",
    "version": 3
   },
   "file_extension": ".py",
   "mimetype": "text/x-python",
   "name": "python",
   "nbconvert_exporter": "python",
   "pygments_lexer": "ipython3",
   "version": "3.8.5"
  }
 },
 "nbformat": 4,
 "nbformat_minor": 4
}
