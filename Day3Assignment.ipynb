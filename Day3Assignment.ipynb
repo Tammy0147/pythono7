{
 "cells": [
  {
   "cell_type": "code",
   "execution_count": 1,
   "metadata": {},
   "outputs": [],
   "source": [
    "numbers = (46,53,45,48,55,45,45,49,51,51,58,50,55,53,57,50,46,55,55,47,57,55)"
   ]
  },
  {
   "cell_type": "code",
   "execution_count": 23,
   "metadata": {},
   "outputs": [
    {
     "name": "stdout",
     "output_type": "stream",
     "text": [
      "(55, 57, 47, 55, 55, 46, 50, 57, 53, 55, 50, 58, 51, 51, 49, 45, 45, 55, 48, 45, 53, 46)\n"
     ]
    }
   ],
   "source": [
    "result = reversed(numbers)\n",
    "result = tuple(result)\n",
    "print(result)"
   ]
  },
  {
   "cell_type": "code",
   "execution_count": 24,
   "metadata": {},
   "outputs": [
    {
     "data": {
      "text/plain": [
       "58"
      ]
     },
     "execution_count": 24,
     "metadata": {},
     "output_type": "execute_result"
    }
   ],
   "source": [
    "numbers[10]"
   ]
  },
  {
   "cell_type": "code",
   "execution_count": 31,
   "metadata": {},
   "outputs": [
    {
     "data": {
      "text/plain": [
       "5"
      ]
     },
     "execution_count": 31,
     "metadata": {},
     "output_type": "execute_result"
    }
   ],
   "source": [
    "numbers.count(55)"
   ]
  },
  {
   "cell_type": "code",
   "execution_count": 32,
   "metadata": {},
   "outputs": [
    {
     "data": {
      "text/plain": [
       "(49, 57, 57)"
      ]
     },
     "execution_count": 32,
     "metadata": {},
     "output_type": "execute_result"
    }
   ],
   "source": [
    "numbers[7],numbers[14],numbers[20]"
   ]
  },
  {
   "cell_type": "code",
   "execution_count": 33,
   "metadata": {},
   "outputs": [
    {
     "name": "stdout",
     "output_type": "stream",
     "text": [
      "[55, 57, 47, 55, 55, 46, 50, 57, 53, 55, 50, 58, 51, 51, 49, 45, 55, 48, 45, 53, 46]\n"
     ]
    }
   ],
   "source": [
    "numbers = [46,53,45,48,55,45,49,51,51,58,50,55,53,57,50,46,55,55,47,57,55]\n",
    "numbers.reverse()\n",
    "print(numbers)"
   ]
  },
  {
   "cell_type": "code",
   "execution_count": 37,
   "metadata": {},
   "outputs": [
    {
     "data": {
      "text/plain": [
       "58"
      ]
     },
     "execution_count": 37,
     "metadata": {},
     "output_type": "execute_result"
    }
   ],
   "source": [
    "numbers[11]"
   ]
  },
  {
   "cell_type": "code",
   "execution_count": 38,
   "metadata": {},
   "outputs": [
    {
     "data": {
      "text/plain": [
       "2"
      ]
     },
     "execution_count": 38,
     "metadata": {},
     "output_type": "execute_result"
    }
   ],
   "source": [
    "numbers.count(51)"
   ]
  },
  {
   "cell_type": "code",
   "execution_count": 39,
   "metadata": {},
   "outputs": [
    {
     "data": {
      "text/plain": [
       "(49, 57, 57)"
      ]
     },
     "execution_count": 39,
     "metadata": {},
     "output_type": "execute_result"
    }
   ],
   "source": [
    "numbers[14],numbers[1],numbers[7]"
   ]
  },
  {
   "cell_type": "code",
   "execution_count": 47,
   "metadata": {},
   "outputs": [
    {
     "name": "stdout",
     "output_type": "stream",
     "text": [
      "[46, 53, 45, 48, 55, 45, 49, '69', 51, 51, 58, 50, 55, 53, 57, 50, 46, 55, 55, 47, 57, 55]\n"
     ]
    }
   ],
   "source": [
    "numbers = [46,53,45,48,55,45,49,51,51,58,50,55,53,57,50,46,55,55,47,57,55]\n",
    "numbers.insert(7,'69')\n",
    "print(numbers)"
   ]
  },
  {
   "cell_type": "code",
   "execution_count": 48,
   "metadata": {},
   "outputs": [
    {
     "name": "stdout",
     "output_type": "stream",
     "text": [
      "[46, 53, 45, 48, 55, 45, 49, '69', 51, 51, 58, 50, 55, 53, 57, 50, 46, 55, 55, 47, 57, 55, 89, 85, 36, 95, 45, 78]\n"
     ]
    }
   ],
   "source": [
    "numbers2 = [89,85,36,95,45,78]\n",
    "numbers.extend(numbers2)\n",
    "print(numbers)"
   ]
  },
  {
   "cell_type": "code",
   "execution_count": 51,
   "metadata": {},
   "outputs": [],
   "source": [
    "Arsenal ={\n",
    "    'location':'England',\n",
    "    'Manager':'Mikel Arteta',\n",
    "    'Captain':'Alexander Lacazette',\n",
    "    'Networth':'70 billion',\n",
    "    'Formation':'4-2-3-1'\n",
    "}"
   ]
  },
  {
   "cell_type": "code",
   "execution_count": null,
   "metadata": {},
   "outputs": [],
   "source": [
    "details ={\n",
    "    'chelsea':['England','Thomas Tuchel','Jorginho','70 billion',3-2-3-1-1],\n",
    "    'Man United':['England','Ralph Ragnick','Harry Maguire','71 billion',4-3-3],\n",
    "    'Mancity':['England','Pep Guardiola','Kevin Debruyne','100 billion',4-3-3],\n",
    "    'Liverpool':['England','Jorden Klopp','Jordan Henderson','100 billion',4-3-3],\n",
    "    'Real madrid':['Spain','Carlos Ancelloti','Karim Benzima','120 billion'4-3-3],\n",
    "    'Barcelona':['Spain','Xavi','Sergio Busquets','120 billion',4-3-3],\n",
    "    'Athletico Madrid':['Spain','Diego Simione','Oblak','90 billion',4-4-2],\n",
    "    'Tothenham':['Englan','Antonio Conte','Harry Kane','60 billion',4-3-3],\n",
    "    'Everton':['England','Frank Lampard','Pickford','50 billion',4-5-1],\n",
    "}"
   ]
  }
 ],
 "metadata": {
  "kernelspec": {
   "display_name": "Python 3",
   "language": "python",
   "name": "python3"
  },
  "language_info": {
   "codemirror_mode": {
    "name": "ipython",
    "version": 3
   },
   "file_extension": ".py",
   "mimetype": "text/x-python",
   "name": "python",
   "nbconvert_exporter": "python",
   "pygments_lexer": "ipython3",
   "version": "3.8.5"
  }
 },
 "nbformat": 4,
 "nbformat_minor": 4
}
