{
 "cells": [
  {
   "cell_type": "code",
   "execution_count": null,
   "metadata": {},
   "outputs": [],
   "source": [
    "numbers = (7,8,15,10,23,20,15,55,68,15,25,80,15,26,48,79)"
   ]
  },
  {
   "cell_type": "code",
   "execution_count": 2,
   "metadata": {},
   "outputs": [
    {
     "name": "stdout",
     "output_type": "stream",
     "text": [
      "<class 'tuple'>\n"
     ]
    }
   ],
   "source": [
    "print(type(numbers))"
   ]
  },
  {
   "cell_type": "code",
   "execution_count": 3,
   "metadata": {},
   "outputs": [
    {
     "name": "stdout",
     "output_type": "stream",
     "text": [
      "14\n"
     ]
    }
   ],
   "source": [
    "print(len(numbers))"
   ]
  },
  {
   "cell_type": "code",
   "execution_count": 4,
   "metadata": {},
   "outputs": [
    {
     "data": {
      "text/plain": [
       "68"
      ]
     },
     "execution_count": 4,
     "metadata": {},
     "output_type": "execute_result"
    }
   ],
   "source": [
    "numbers[8]# Accessing a value based on it's index location from the front"
   ]
  },
  {
   "cell_type": "code",
   "execution_count": 5,
   "metadata": {},
   "outputs": [
    {
     "data": {
      "text/plain": [
       "15"
      ]
     },
     "execution_count": 5,
     "metadata": {},
     "output_type": "execute_result"
    }
   ],
   "source": [
    "numbers[-8]# Accessing a value based on it's index location from the back"
   ]
  },
  {
   "cell_type": "code",
   "execution_count": 6,
   "metadata": {},
   "outputs": [
    {
     "data": {
      "text/plain": [
       "(68, 15)"
      ]
     },
     "execution_count": 6,
     "metadata": {},
     "output_type": "execute_result"
    }
   ],
   "source": [
    "numbers[8: 10]"
   ]
  },
  {
   "cell_type": "code",
   "execution_count": 7,
   "metadata": {},
   "outputs": [],
   "source": [
    "fruits = ['mango','cherry','Apple','lemon','pawpaw','orange']"
   ]
  },
  {
   "cell_type": "code",
   "execution_count": 8,
   "metadata": {},
   "outputs": [
    {
     "name": "stdout",
     "output_type": "stream",
     "text": [
      "['mango', 'cherry', 'Apple', 'lemon', 'pawpaw', 'orange', 'banana']\n"
     ]
    }
   ],
   "source": [
    "fruits.append('banana')#will add a new value at the end of the list\n",
    "print(fruits)"
   ]
  },
  {
   "cell_type": "code",
   "execution_count": 9,
   "metadata": {},
   "outputs": [
    {
     "name": "stdout",
     "output_type": "stream",
     "text": [
      "['mango', 'cherry', 'Apple', 'lemon', 'pawpaw', 'orange', 'banana', 'orange', 'Grape', 'Apple', 'Lemon', 'orange']\n"
     ]
    }
   ],
   "source": [
    "fruits2 = ('orange','Grape','Apple','Lemon','orange')\n",
    "fruits.extend(fruits2)# will add all values from an existing list or tuple to our list\n",
    "print(fruits)"
   ]
  },
  {
   "cell_type": "code",
   "execution_count": 10,
   "metadata": {},
   "outputs": [
    {
     "name": "stdout",
     "output_type": "stream",
     "text": [
      "['Apple', 'Apple', 'Grape', 'Lemon', 'banana', 'cherry', 'lemon', 'mango', 'orange', 'orange', 'orange', 'pawpaw']\n"
     ]
    }
   ],
   "source": [
    "fruits.sort()# will sort all values in acesending order\n",
    "print(fruits)"
   ]
  },
  {
   "cell_type": "code",
   "execution_count": 11,
   "metadata": {},
   "outputs": [
    {
     "name": "stdout",
     "output_type": "stream",
     "text": [
      "['Apple', 'Apple', 'Grape', 'Lemon', 'banana', 'pear', 'cherry', 'lemon', 'mango', 'orange', 'orange', 'orange', 'pawpaw']\n"
     ]
    }
   ],
   "source": [
    "fruits.insert(5,'pear')# will add the new value in the specified index location\n",
    "print(fruits)"
   ]
  },
  {
   "cell_type": "code",
   "execution_count": 12,
   "metadata": {},
   "outputs": [
    {
     "name": "stdout",
     "output_type": "stream",
     "text": [
      "['pawpaw', 'orange', 'orange', 'orange', 'mango', 'lemon', 'cherry', 'pear', 'banana', 'Lemon', 'Grape', 'Apple', 'Apple']\n"
     ]
    }
   ],
   "source": [
    "fruits.reverse()# will sort our values in desending order\n",
    "print(fruits)"
   ]
  },
  {
   "cell_type": "code",
   "execution_count": 13,
   "metadata": {},
   "outputs": [
    {
     "name": "stdout",
     "output_type": "stream",
     "text": [
      "['pawpaw', 'orange', 'orange', 'orange', 'mango', 'lemon', 'cherry', 'pear', 'banana', 'Lemon', 'Grape', 'Apple']\n"
     ]
    }
   ],
   "source": [
    "fruits.pop()# will always drop the last value in the list\n",
    "print(fruits)"
   ]
  },
  {
   "cell_type": "code",
   "execution_count": 14,
   "metadata": {},
   "outputs": [
    {
     "name": "stdout",
     "output_type": "stream",
     "text": [
      "['pawpaw', 'orange', 'orange', 'orange', 'mango', 'cherry', 'pear', 'banana', 'Lemon', 'Grape', 'Apple']\n"
     ]
    }
   ],
   "source": [
    "fruits.pop(5)# will always drop the value of the location that is specified in the list\n",
    "print(fruits)"
   ]
  },
  {
   "cell_type": "code",
   "execution_count": 16,
   "metadata": {},
   "outputs": [
    {
     "name": "stdout",
     "output_type": "stream",
     "text": [
      "['pawpaw', 'orange', 'mango', 'cherry', 'pear', 'banana', 'Lemon', 'Grape', 'Apple']\n"
     ]
    }
   ],
   "source": [
    "fruits.remove('orange')\n",
    "print(fruits)"
   ]
  },
  {
   "cell_type": "code",
   "execution_count": 17,
   "metadata": {},
   "outputs": [
    {
     "name": "stdout",
     "output_type": "stream",
     "text": [
      "['pawpaw', 'orange', 'mango', 'cherry', 'pear', 'banana', 'Lemon', 'Grape', 'Apple']\n"
     ]
    }
   ],
   "source": [
    "fruits_copy = fruits.copy()# will make a duplicate of our list and assign it to the variable specified\n",
    "print(fruits_copy)"
   ]
  },
  {
   "cell_type": "code",
   "execution_count": 19,
   "metadata": {},
   "outputs": [
    {
     "name": "stdout",
     "output_type": "stream",
     "text": [
      "[]\n"
     ]
    }
   ],
   "source": [
    "fruits_copy.clear()# will clear all values in the list\n",
    "print(fruits_copy)"
   ]
  },
  {
   "cell_type": "code",
   "execution_count": 20,
   "metadata": {},
   "outputs": [
    {
     "ename": "NameError",
     "evalue": "name 'fruits_copy' is not defined",
     "output_type": "error",
     "traceback": [
      "\u001b[1;31m---------------------------------------------------------------------------\u001b[0m",
      "\u001b[1;31mNameError\u001b[0m                                 Traceback (most recent call last)",
      "\u001b[1;32m<ipython-input-20-24e04e5f09c9>\u001b[0m in \u001b[0;36m<module>\u001b[1;34m\u001b[0m\n\u001b[0;32m      1\u001b[0m \u001b[1;32mdel\u001b[0m\u001b[1;33m(\u001b[0m\u001b[0mfruits_copy\u001b[0m\u001b[1;33m)\u001b[0m\u001b[1;31m# will delete the entire list\u001b[0m\u001b[1;33m\u001b[0m\u001b[1;33m\u001b[0m\u001b[0m\n\u001b[1;32m----> 2\u001b[1;33m \u001b[0mprint\u001b[0m\u001b[1;33m(\u001b[0m\u001b[0mfruits_copy\u001b[0m\u001b[1;33m)\u001b[0m\u001b[1;33m\u001b[0m\u001b[1;33m\u001b[0m\u001b[0m\n\u001b[0m",
      "\u001b[1;31mNameError\u001b[0m: name 'fruits_copy' is not defined"
     ]
    }
   ],
   "source": [
    "del(fruits_copy)# will delete the entire list\n",
    "print(fruits_copy)"
   ]
  },
  {
   "cell_type": "code",
   "execution_count": 22,
   "metadata": {},
   "outputs": [],
   "source": [
    "records = {\n",
    "    'Name':'simeon',\n",
    "    'Gender':'male',\n",
    "    'Age':25,\n",
    "    'Height':1.75,\n",
    "    'Weigth':65\n",
    "}"
   ]
  },
  {
   "cell_type": "code",
   "execution_count": 23,
   "metadata": {},
   "outputs": [
    {
     "name": "stdout",
     "output_type": "stream",
     "text": [
      "25\n"
     ]
    }
   ],
   "source": [
    "print(records['Age'])"
   ]
  },
  {
   "cell_type": "code",
   "execution_count": 24,
   "metadata": {},
   "outputs": [
    {
     "name": "stdout",
     "output_type": "stream",
     "text": [
      "dict_keys(['Name', 'Gender', 'Age', 'Height', 'Weigth'])\n"
     ]
    }
   ],
   "source": [
    "print(records.keys())# will return all the keys present in the dictionary"
   ]
  },
  {
   "cell_type": "code",
   "execution_count": 25,
   "metadata": {},
   "outputs": [
    {
     "name": "stdout",
     "output_type": "stream",
     "text": [
      "dict_values(['simeon', 'male', 25, 1.75, 65])\n"
     ]
    }
   ],
   "source": [
    "print(records.values())# will return all the values present in the dictionary"
   ]
  },
  {
   "cell_type": "code",
   "execution_count": 26,
   "metadata": {},
   "outputs": [
    {
     "name": "stdout",
     "output_type": "stream",
     "text": [
      "dict_items([('Name', 'simeon'), ('Gender', 'male'), ('Age', 25), ('Height', 1.75), ('Weigth', 65)])\n"
     ]
    }
   ],
   "source": [
    "print(records.items())# will retuen all the keys and values present in the dictionary"
   ]
  },
  {
   "cell_type": "code",
   "execution_count": 27,
   "metadata": {},
   "outputs": [
    {
     "name": "stdout",
     "output_type": "stream",
     "text": [
      "{'Name': 'simeon', 'Gender': 'male', 'Age': 25, 'Height': 1.82, 'Weigth': 65}\n"
     ]
    }
   ],
   "source": [
    "r={'Height':1.82}\n",
    "records.update(r)# will update the old value to the new value specified\n",
    "print(records)"
   ]
  },
  {
   "cell_type": "code",
   "execution_count": 29,
   "metadata": {},
   "outputs": [],
   "source": [
    "details ={\n",
    "    'student1':['Ade Ania','male',15,1.56,50],\n",
    "    'student2':['Mary Akpan','female',14,1.56,56],\n",
    "    'student3':['Joel Okoro','male', 17,1.69,50],\n",
    "    'student4':['Adaeze Boniface','female',15,1.60,55],\n",
    "    'student5':['Musa Lawal','male',15,1.70,50]\n",
    "}"
   ]
  },
  {
   "cell_type": "code",
   "execution_count": 30,
   "metadata": {},
   "outputs": [
    {
     "data": {
      "text/plain": [
       "1.56"
      ]
     },
     "execution_count": 30,
     "metadata": {},
     "output_type": "execute_result"
    }
   ],
   "source": [
    "details['student2'][3]"
   ]
  },
  {
   "cell_type": "code",
   "execution_count": null,
   "metadata": {},
   "outputs": [],
   "source": []
  }
 ],
 "metadata": {
  "kernelspec": {
   "display_name": "Python 3",
   "language": "python",
   "name": "python3"
  },
  "language_info": {
   "codemirror_mode": {
    "name": "ipython",
    "version": 3
   },
   "file_extension": ".py",
   "mimetype": "text/x-python",
   "name": "python",
   "nbconvert_exporter": "python",
   "pygments_lexer": "ipython3",
   "version": "3.8.5"
  }
 },
 "nbformat": 4,
 "nbformat_minor": 4
}
