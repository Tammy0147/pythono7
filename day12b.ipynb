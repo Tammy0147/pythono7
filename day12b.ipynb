{
 "cells": [
  {
   "cell_type": "code",
   "execution_count": 1,
   "metadata": {},
   "outputs": [],
   "source": [
    "import mysql.connector"
   ]
  },
  {
   "cell_type": "code",
   "execution_count": 2,
   "metadata": {},
   "outputs": [
    {
     "name": "stdout",
     "output_type": "stream",
     "text": [
      "('information_schema',)\n",
      "('ministrymanagementsystem',)\n",
      "('mysql',)\n",
      "('performance_schema',)\n",
      "('sakila',)\n",
      "('studentmanagementsystem',)\n",
      "('sys',)\n",
      "('world',)\n"
     ]
    }
   ],
   "source": [
    "mydb = mysql.connector.connect(\n",
    "    host = 'localhost',\n",
    "    user='root',\n",
    "    password = 'feleng18'\n",
    "    \n",
    ")\n",
    "mycursor = mydb.cursor()\n",
    "mycursor.execute('SHOW DATABASES')\n",
    "\n",
    "for x in mycursor:\n",
    "    print(x)"
   ]
  },
  {
   "cell_type": "code",
   "execution_count": 5,
   "metadata": {},
   "outputs": [
    {
     "name": "stdout",
     "output_type": "stream",
     "text": [
      "('information_schema',)\n",
      "('ministrymanagementsystem',)\n",
      "('mysql',)\n",
      "('performance_schema',)\n",
      "('sakila',)\n",
      "('studentmanagementsystem',)\n",
      "('sys',)\n",
      "('world',)\n"
     ]
    }
   ],
   "source": [
    "mydb = mysql.connector.connect(\n",
    "    host = 'localhost',\n",
    "    user='root',\n",
    "    password = 'feleng18',\n",
    "    database = 'studentmanagementsystem'\n",
    "    \n",
    ")\n",
    "mycursor = mydb.cursor()\n",
    "mycursor.execute('SHOW DATABASES')\n",
    "\n",
    "for x in mycursor:\n",
    "    print(x)"
   ]
  },
  {
   "cell_type": "code",
   "execution_count": 7,
   "metadata": {},
   "outputs": [
    {
     "name": "stdout",
     "output_type": "stream",
     "text": [
      "('ministryofagriculturedetails',)\n",
      "('ministryoffinancedetails',)\n",
      "('ministryofhealthdetails',)\n",
      "('ministryofwomenaffairsdetails',)\n",
      "('ministryofworksandhousingdetails',)\n"
     ]
    }
   ],
   "source": [
    "mydb = mysql.connector.connect(\n",
    "    host = 'localhost',\n",
    "    user='root',\n",
    "    password = 'feleng18',\n",
    "    database = 'ministrymanagementsystem'\n",
    "    \n",
    ")\n",
    "mycursor = mydb.cursor()\n",
    "mycursor.execute('SHOW TABLES')\n",
    "\n",
    "for x in mycursor:\n",
    "    print(x)"
   ]
  },
  {
   "cell_type": "code",
   "execution_count": 10,
   "metadata": {},
   "outputs": [],
   "source": [
    "mydb = mysql.connector.connect(\n",
    "    host = 'localhost',\n",
    "    user='root',\n",
    "    password = 'feleng18',\n",
    "    database = 'ministrymanagementsystem'\n",
    "    \n",
    ")\n",
    "mycursor = mydb.cursor()\n",
    "sql = 'INSERT INTO ministryofhealthdetails(ID,Department,Director,Departmentalstatus,dateofcreation,averagesalary)VALUES(%s,%s,%s,%s,%s,%s)'\n",
    "val = (8,'FootballD','Dr Folashade Ojo','Semi-Active','2002-09-25',200000)\n",
    "mycursor.execute(sql,val)\n",
    "\n",
    "mydb.commit()"
   ]
  },
  {
   "cell_type": "code",
   "execution_count": 11,
   "metadata": {},
   "outputs": [],
   "source": [
    "mydb = mysql.connector.connect(\n",
    "    host = 'localhost',\n",
    "    user='root',\n",
    "    password = 'feleng18',\n",
    "    database = 'ministrymanagementsystem'\n",
    "    \n",
    ")\n",
    "mycursor = mydb.cursor()\n",
    "sql = 'INSERT INTO ministryofhealthdetails(ID,Department,Director,Departmentalstatus,dateofcreation,averagesalary)VALUES(%s,%s,%s,%s,%s,%s)'\n",
    "val = [(9,'F1DE','Dr Joe Uju','Active','2012-04-25',300000),\n",
    "       (10,'CDS','Dr Jane Akpan','Active','2012-10-15',350000)]\n",
    "\n",
    "\n",
    "mycursor.executemany(sql,val)\n",
    "\n",
    "mydb.commit()"
   ]
  },
  {
   "cell_type": "code",
   "execution_count": 12,
   "metadata": {},
   "outputs": [
    {
     "name": "stdout",
     "output_type": "stream",
     "text": [
      "(1, 'Family Health', 'Dr Mercy Njoku', 'Active', datetime.date(1990, 2, 25), 250000.0)\n",
      "(2, 'Public Health', 'Dr Ogunjobi Jame', 'Active', datetime.date(1970, 1, 30), 300000.0)\n",
      "(3, 'Planning REsearch And Statistics', 'Dr Akpan Okon', 'Active', datetime.date(2000, 9, 14), 200000.0)\n",
      "(4, 'Hospital Services', 'Dr Jane Ojone', 'Semi-Active', datetime.date(2005, 2, 24), 350000.0)\n",
      "(5, 'Processing Appointment', 'Dr Bala Lawal', 'Active', datetime.date(2002, 3, 15), 250000.0)\n",
      "(6, 'Food and Drugs', 'Dr Godswill Chukwuemeka', 'Active', datetime.date(1990, 5, 1), 450000.0)\n",
      "(7, 'The Department of Sponsors', 'Dr Akin ojo', 'Inactive', datetime.date(2001, 9, 30), 350000.0)\n",
      "(8, 'FootballD', 'Dr Folashade Ojo', 'Semi-Active', datetime.date(2002, 9, 25), 200000.0)\n",
      "(9, 'F1DE', 'Dr Joe Uju', 'Active', datetime.date(2012, 4, 25), 300000.0)\n",
      "(10, 'CDS', 'Dr Jane Akpan', 'Active', datetime.date(2012, 10, 15), 350000.0)\n"
     ]
    }
   ],
   "source": [
    "mydb = mysql.connector.connect(\n",
    "    host = 'localhost',\n",
    "    user='root',\n",
    "    password = 'feleng18',\n",
    "    database = 'ministrymanagementsystem'\n",
    "    \n",
    ")\n",
    "mycursor = mydb.cursor()\n",
    "\n",
    "mycursor.execute('SELECT * FROM ministryofhealthdetails')\n",
    "\n",
    "for x in mycursor:\n",
    "    print(x)"
   ]
  },
  {
   "cell_type": "code",
   "execution_count": null,
   "metadata": {},
   "outputs": [],
   "source": []
  }
 ],
 "metadata": {
  "kernelspec": {
   "display_name": "Python 3",
   "language": "python",
   "name": "python3"
  },
  "language_info": {
   "codemirror_mode": {
    "name": "ipython",
    "version": 3
   },
   "file_extension": ".py",
   "mimetype": "text/x-python",
   "name": "python",
   "nbconvert_exporter": "python",
   "pygments_lexer": "ipython3",
   "version": "3.8.5"
  }
 },
 "nbformat": 4,
 "nbformat_minor": 4
}
