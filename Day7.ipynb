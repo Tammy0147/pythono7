{
 "cells": [
  {
   "cell_type": "markdown",
   "metadata": {},
   "source": [
    "# Anonymous Function"
   ]
  },
  {
   "cell_type": "code",
   "execution_count": 1,
   "metadata": {},
   "outputs": [
    {
     "data": {
      "text/plain": [
       "16777216"
      ]
     },
     "execution_count": 1,
     "metadata": {},
     "output_type": "execute_result"
    }
   ],
   "source": [
    "(lambda x: x**x)(8)# simply means x raised to the power of 8"
   ]
  },
  {
   "cell_type": "code",
   "execution_count": 4,
   "metadata": {},
   "outputs": [
    {
     "data": {
      "text/plain": [
       "'Num1 is oldest'"
      ]
     },
     "execution_count": 4,
     "metadata": {},
     "output_type": "execute_result"
    }
   ],
   "source": [
    "(lambda num1,num2: 'Num1 is oldest' if num1 > num2 else 'num2 is oldest')(25,8)"
   ]
  },
  {
   "cell_type": "markdown",
   "metadata": {},
   "source": [
    "# write a lambda function to check if a given name starts with upper case S"
   ]
  },
  {
   "cell_type": "code",
   "execution_count": 18,
   "metadata": {},
   "outputs": [
    {
     "name": "stdout",
     "output_type": "stream",
     "text": [
      "please enter your nametammy\n"
     ]
    },
    {
     "data": {
      "text/plain": [
       "'tammy does not start with upper case S'"
      ]
     },
     "execution_count": 18,
     "metadata": {},
     "output_type": "execute_result"
    }
   ],
   "source": [
    "(lambda name: f'{name} starts with upper case S' if name.startswith('S') else f'{name} does not start with upper case S')(input('please enter your name'))"
   ]
  },
  {
   "cell_type": "code",
   "execution_count": 21,
   "metadata": {},
   "outputs": [
    {
     "name": "stdout",
     "output_type": "stream",
     "text": [
      "[47, 48, 58, 49, 47, 53, 53, 57, 48, 59, 60, 59, 60, 52, 47, 49, 60, 55, 45, 52, 49, 59, 55, 46, 47, 60, 49, 52, 58, 55, 56, 51, 49, 54, 48, 53, 48, 58, 49, 54, 55, 48, 54, 54, 53, 56, 57, 54, 53, 56]\n"
     ]
    }
   ],
   "source": [
    "import random\n",
    "numbers = []\n",
    "counter = 1\n",
    "while counter <= 50:\n",
    "    num = random.randint(45,60)\n",
    "    numbers.append(num)\n",
    "    counter += 1\n",
    "print(numbers)    "
   ]
  },
  {
   "cell_type": "code",
   "execution_count": 22,
   "metadata": {},
   "outputs": [
    {
     "name": "stdout",
     "output_type": "stream",
     "text": [
      "[6.855654600401044, 6.928203230275509, 7.615773105863909, 7.0, 6.855654600401044, 7.280109889280518, 7.280109889280518, 7.54983443527075, 6.928203230275509, 7.681145747868608, 7.745966692414834, 7.681145747868608, 7.745966692414834, 7.211102550927978, 6.855654600401044, 7.0, 7.745966692414834, 7.416198487095663, 6.708203932499369, 7.211102550927978, 7.0, 7.681145747868608, 7.416198487095663, 6.782329983125268, 6.855654600401044, 7.745966692414834, 7.0, 7.211102550927978, 7.615773105863909, 7.416198487095663, 7.483314773547883, 7.14142842854285, 7.0, 7.3484692283495345, 6.928203230275509, 7.280109889280518, 6.928203230275509, 7.615773105863909, 7.0, 7.3484692283495345, 7.416198487095663, 6.928203230275509, 7.3484692283495345, 7.3484692283495345, 7.280109889280518, 7.483314773547883, 7.54983443527075, 7.3484692283495345, 7.280109889280518, 7.483314773547883]\n"
     ]
    }
   ],
   "source": [
    "import math\n",
    "sqrtnum = list(map(lambda x: math.sqrt(x),numbers))\n",
    "print(sqrtnum)"
   ]
  },
  {
   "cell_type": "code",
   "execution_count": 23,
   "metadata": {},
   "outputs": [
    {
     "name": "stdout",
     "output_type": "stream",
     "text": [
      "[47, 48, 58, 49, 47, 53, 53, 57, 48, 59, 60, 59, 60, 52, 47, 49, 60, 55, 52, 49, 59, 55, 46, 47, 60, 49, 52, 58, 55, 56, 51, 49, 54, 48, 53, 48, 58, 49, 54, 55, 48, 54, 54, 53, 56, 57, 54, 53, 56]\n"
     ]
    }
   ],
   "source": [
    "sqrtnum2 = list(filter(lambda x:x > 45, numbers))\n",
    "print(sqrtnum2)"
   ]
  },
  {
   "cell_type": "markdown",
   "metadata": {},
   "source": [
    "# excercise 2\n",
    "# generate 100 numbers between 55 and 80\n",
    "# modify this numbers by finding their sin\n",
    "# filter this numbers by selecting out even and odd number"
   ]
  },
  {
   "cell_type": "code",
   "execution_count": 27,
   "metadata": {},
   "outputs": [
    {
     "name": "stdout",
     "output_type": "stream",
     "text": [
      "[65, 78, 59, 74, 65, 60, 61, 56, 71, 70, 66, 72, 71, 59, 64, 77, 60, 71, 79, 73, 66, 77, 58, 55, 63, 61, 69, 78, 64, 68, 63, 78, 63, 78, 74, 61, 80, 59, 62, 71, 79, 76, 61, 78, 75, 59, 58, 66, 56, 64, 64, 61, 56, 57, 63, 55, 75, 75, 75, 64, 64, 79, 61, 75, 62, 75, 60, 58, 70, 74, 66, 80, 80, 75, 66, 68, 66, 64, 65, 73, 56, 55, 59, 73, 67, 68, 77, 63, 68, 79, 58, 78, 73, 77, 80, 65, 79, 73, 69, 73]\n"
     ]
    }
   ],
   "source": [
    "import math\n",
    "import random\n",
    "numbers = []\n",
    "counter = 1\n",
    "while counter <= 100:\n",
    "    num = random.randint(55,80)\n",
    "    numbers.append(num)\n",
    "    counter += 1\n",
    "print(numbers) \n"
   ]
  },
  {
   "cell_type": "code",
   "execution_count": 28,
   "metadata": {},
   "outputs": [
    {
     "name": "stdout",
     "output_type": "stream",
     "text": [
      "[0.8268286794901034, 0.5139784559875352, 0.6367380071391379, -0.9851462604682474, 0.8268286794901034, -0.3048106211022167, -0.9661177700083929, -0.5215510020869119, 0.9510546532543747, 0.7738906815578891, -0.026551154023966794, 0.25382336276203626, 0.9510546532543747, 0.6367380071391379, 0.9200260381967907, 0.9995201585807313, -0.3048106211022167, 0.9510546532543747, -0.4441126687075084, -0.6767719568873076, -0.026551154023966794, 0.9995201585807313, 0.9928726480845371, -0.9997551733586199, 0.16735570030280691, -0.9661177700083929, -0.11478481378318722, 0.5139784559875352, 0.9200260381967907, -0.8979276806892913, 0.16735570030280691, 0.5139784559875352, 0.16735570030280691, 0.5139784559875352, -0.9851462604682474, -0.9661177700083929, -0.9938886539233752, 0.6367380071391379, -0.7391806966492228, 0.9510546532543747, -0.4441126687075084, 0.5661076368981803, -0.9661177700083929, 0.5139784559875352, -0.38778163540943045, 0.6367380071391379, 0.9928726480845371, -0.026551154023966794, -0.5215510020869119, 0.9200260381967907, 0.9200260381967907, -0.9661177700083929, -0.5215510020869119, 0.43616475524782494, 0.16735570030280691, -0.9997551733586199, -0.38778163540943045, -0.38778163540943045, -0.38778163540943045, 0.9200260381967907, 0.9200260381967907, -0.4441126687075084, -0.9661177700083929, -0.38778163540943045, -0.7391806966492228, -0.38778163540943045, -0.3048106211022167, 0.9928726480845371, 0.7738906815578891, -0.9851462604682474, -0.026551154023966794, -0.9938886539233752, -0.9938886539233752, -0.38778163540943045, -0.026551154023966794, -0.8979276806892913, -0.026551154023966794, 0.9200260381967907, 0.8268286794901034, -0.6767719568873076, -0.5215510020869119, -0.9997551733586199, 0.6367380071391379, -0.6767719568873076, -0.8555199789753223, -0.8979276806892913, 0.9995201585807313, 0.16735570030280691, -0.8979276806892913, -0.4441126687075084, 0.9928726480845371, 0.5139784559875352, -0.6767719568873076, 0.9995201585807313, -0.9938886539233752, 0.8268286794901034, -0.4441126687075084, -0.6767719568873076, -0.11478481378318722, -0.6767719568873076]\n"
     ]
    }
   ],
   "source": [
    "import math\n",
    "sinnum = list(map(lambda x: math.sin(x),numbers))\n",
    "print(sinnum)"
   ]
  },
  {
   "cell_type": "code",
   "execution_count": 31,
   "metadata": {},
   "outputs": [
    {
     "name": "stdout",
     "output_type": "stream",
     "text": [
      "[65, 59, 65, 61, 71, 71, 59, 77, 71, 79, 73, 77, 55, 63, 61, 69, 63, 63, 61, 59, 71, 79, 61, 75, 59, 61, 57, 63, 55, 75, 75, 75, 79, 61, 75, 75, 75, 65, 73, 55, 59, 73, 67, 77, 63, 79, 73, 77, 65, 79, 73, 69, 73]\n"
     ]
    }
   ],
   "source": [
    "odd = list(filter(lambda x:x%2 != 0, numbers))\n",
    "print(odd)"
   ]
  },
  {
   "cell_type": "code",
   "execution_count": 32,
   "metadata": {},
   "outputs": [
    {
     "name": "stdout",
     "output_type": "stream",
     "text": [
      "[78, 74, 60, 56, 70, 66, 72, 64, 60, 66, 58, 78, 64, 68, 78, 78, 74, 80, 62, 76, 78, 58, 66, 56, 64, 64, 56, 64, 64, 62, 60, 58, 70, 74, 66, 80, 80, 66, 68, 66, 64, 56, 68, 68, 58, 78, 80]\n"
     ]
    }
   ],
   "source": [
    "even = list(filter(lambda x:x%2 == 0, numbers))\n",
    "print(even)"
   ]
  },
  {
   "cell_type": "code",
   "execution_count": null,
   "metadata": {},
   "outputs": [],
   "source": []
  }
 ],
 "metadata": {
  "kernelspec": {
   "display_name": "Python 3",
   "language": "python",
   "name": "python3"
  },
  "language_info": {
   "codemirror_mode": {
    "name": "ipython",
    "version": 3
   },
   "file_extension": ".py",
   "mimetype": "text/x-python",
   "name": "python",
   "nbconvert_exporter": "python",
   "pygments_lexer": "ipython3",
   "version": "3.8.5"
  }
 },
 "nbformat": 4,
 "nbformat_minor": 4
}
