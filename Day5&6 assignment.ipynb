{
 "cells": [
  {
   "cell_type": "code",
   "execution_count": 98,
   "metadata": {},
   "outputs": [
    {
     "name": "stdout",
     "output_type": "stream",
     "text": [
      "input height in m:1.7\n",
      "input weight in kg:71.1\n",
      "Your bmi is:24.602076124567475\n"
     ]
    },
    {
     "ename": "TypeError",
     "evalue": "'<=' not supported between instances of 'function' and 'float'",
     "output_type": "error",
     "traceback": [
      "\u001b[1;31m---------------------------------------------------------------------------\u001b[0m",
      "\u001b[1;31mTypeError\u001b[0m                                 Traceback (most recent call last)",
      "\u001b[1;32m<ipython-input-98-cf5bd5b2d93a>\u001b[0m in \u001b[0;36m<module>\u001b[1;34m\u001b[0m\n\u001b[0;32m     12\u001b[0m     \u001b[1;32melif\u001b[0m \u001b[1;33m(\u001b[0m\u001b[0mweight\u001b[0m\u001b[1;33m/\u001b[0m\u001b[1;33m(\u001b[0m\u001b[0mheight\u001b[0m\u001b[1;33m**\u001b[0m\u001b[1;36m2\u001b[0m\u001b[1;33m)\u001b[0m\u001b[1;33m)\u001b[0m \u001b[1;33m>=\u001b[0m \u001b[1;36m30.0\u001b[0m\u001b[1;33m:\u001b[0m\u001b[1;33m\u001b[0m\u001b[1;33m\u001b[0m\u001b[0m\n\u001b[0;32m     13\u001b[0m         \u001b[0mprint\u001b[0m\u001b[1;33m(\u001b[0m\u001b[1;34mf'You are obese'\u001b[0m\u001b[1;33m)\u001b[0m\u001b[1;33m\u001b[0m\u001b[1;33m\u001b[0m\u001b[0m\n\u001b[1;32m---> 14\u001b[1;33m \u001b[0mbmi\u001b[0m\u001b[1;33m(\u001b[0m\u001b[1;33m)\u001b[0m\u001b[1;33m\u001b[0m\u001b[1;33m\u001b[0m\u001b[0m\n\u001b[0m",
      "\u001b[1;32m<ipython-input-98-cf5bd5b2d93a>\u001b[0m in \u001b[0;36mbmi\u001b[1;34m()\u001b[0m\n\u001b[0;32m      6\u001b[0m     \u001b[1;32mif\u001b[0m \u001b[1;33m(\u001b[0m\u001b[0mweight\u001b[0m\u001b[1;33m/\u001b[0m\u001b[1;33m(\u001b[0m\u001b[0mheight\u001b[0m\u001b[1;33m**\u001b[0m\u001b[1;36m2\u001b[0m\u001b[1;33m)\u001b[0m\u001b[1;33m)\u001b[0m \u001b[1;33m<\u001b[0m \u001b[1;36m18.5\u001b[0m\u001b[1;33m:\u001b[0m\u001b[1;33m\u001b[0m\u001b[1;33m\u001b[0m\u001b[0m\n\u001b[0;32m      7\u001b[0m         \u001b[0mprint\u001b[0m\u001b[1;33m(\u001b[0m\u001b[1;34mf'You are underweight'\u001b[0m\u001b[1;33m)\u001b[0m\u001b[1;33m\u001b[0m\u001b[1;33m\u001b[0m\u001b[0m\n\u001b[1;32m----> 8\u001b[1;33m     \u001b[1;32melif\u001b[0m \u001b[1;33m(\u001b[0m\u001b[0mweight\u001b[0m\u001b[1;33m/\u001b[0m\u001b[1;33m(\u001b[0m\u001b[0mheight\u001b[0m\u001b[1;33m**\u001b[0m\u001b[1;36m2\u001b[0m\u001b[1;33m)\u001b[0m\u001b[1;33m)\u001b[0m \u001b[1;33m>=\u001b[0m \u001b[1;36m18.5\u001b[0m \u001b[1;32mand\u001b[0m \u001b[0mbmi\u001b[0m \u001b[1;33m<=\u001b[0m \u001b[1;36m24.9\u001b[0m\u001b[1;33m:\u001b[0m\u001b[1;33m\u001b[0m\u001b[1;33m\u001b[0m\u001b[0m\n\u001b[0m\u001b[0;32m      9\u001b[0m         \u001b[0mprint\u001b[0m\u001b[1;33m(\u001b[0m\u001b[1;34mf'Your weight is normal'\u001b[0m\u001b[1;33m)\u001b[0m\u001b[1;33m\u001b[0m\u001b[1;33m\u001b[0m\u001b[0m\n\u001b[0;32m     10\u001b[0m     \u001b[1;32melif\u001b[0m \u001b[1;33m(\u001b[0m\u001b[0mweight\u001b[0m\u001b[1;33m/\u001b[0m\u001b[1;33m(\u001b[0m\u001b[0mheight\u001b[0m\u001b[1;33m**\u001b[0m\u001b[1;36m2\u001b[0m\u001b[1;33m)\u001b[0m\u001b[1;33m)\u001b[0m \u001b[1;33m>=\u001b[0m\u001b[1;36m25.0\u001b[0m \u001b[1;32mand\u001b[0m \u001b[0mbmi\u001b[0m \u001b[1;33m<=\u001b[0m \u001b[1;36m29.9\u001b[0m\u001b[1;33m:\u001b[0m\u001b[1;33m\u001b[0m\u001b[1;33m\u001b[0m\u001b[0m\n",
      "\u001b[1;31mTypeError\u001b[0m: '<=' not supported between instances of 'function' and 'float'"
     ]
    }
   ],
   "source": [
    "def bmi():\n",
    "    height = float(input(f'input height in m:'))\n",
    "    weight = float(input(f'input weight in kg:'))\n",
    "    print(f'Your bmi is:{weight/(height**2)}')\n",
    "    \n",
    "    if (weight/(height**2)) < 18.5:\n",
    "        print(f'You are underweight')\n",
    "    elif (weight/(height**2)) >= 18.5 and bmi <= 24.9:\n",
    "        print(f'Your weight is normal')\n",
    "    elif (weight/(height**2)) >=25.0 and bmi <= 29.9:\n",
    "        print(f'You are overweight')\n",
    "    elif (weight/(height**2)) >= 30.0:\n",
    "        print(f'You are obese')\n",
    "bmi()"
   ]
  },
  {
   "cell_type": "code",
   "execution_count": 42,
   "metadata": {},
   "outputs": [
    {
     "name": "stdout",
     "output_type": "stream",
     "text": [
      "Choose a year1998\n"
     ]
    }
   ],
   "source": [
    "year = int(input(f'Choose a year'))\n",
    "def leapyear(year):\n",
    "    if year/4==0 and (year/400==0, year/100==0):\n",
    "        print(f'it is a leap year')\n",
    "    else:\n",
    "        print(f'it is not a leap year')"
   ]
  },
  {
   "cell_type": "code",
   "execution_count": 97,
   "metadata": {},
   "outputs": [
    {
     "name": "stdout",
     "output_type": "stream",
     "text": [
      "<class 'dict'>\n",
      "itemname:shoe\n",
      "serialnumber:7741\n",
      "datein:20/4/2020\n",
      "quantity:100\n",
      "itemname:socks\n",
      "serialnumber:9741\n",
      "datein:20/4/2020\n",
      "quantity:100\n",
      "itemname:mask\n",
      "serialnumber:2741\n",
      "datein:20/4/2020\n",
      "quantity:100\n",
      "itemname:cap\n",
      "serialnumber:8741\n",
      "datein:20/4/2020\n",
      "quantity:100\n",
      "itemname:glass\n",
      "serialnumber:6741\n",
      "datein:20/4/2020\n",
      "quantity:100\n",
      "itemname:watch\n",
      "serialnumber:1741\n",
      "datein:20/4/2020\n",
      "quantity:100\n"
     ]
    }
   ],
   "source": [
    "def records(**shoe):\n",
    "    print(type(shoe))\n",
    "    for key,value in shoe.items():\n",
    "        print(f'{key}:{value}')\n",
    "records(itemname = 'shoe', serialnumber = 7741, datein = '20/4/2020', quantity = 100)\n",
    "def records(**socks):\n",
    "    for key,value in socks.items():\n",
    "            print(f'{key}:{value}')\n",
    "records(itemname = 'socks', serialnumber = 9741, datein = '20/4/2020', quantity = 100)\n",
    "def records(**mask):\n",
    "    for key,value in mask.items():\n",
    "            print(f'{key}:{value}')\n",
    "records(itemname = 'mask', serialnumber = 2741, datein = '20/4/2020', quantity = 100)\n",
    "def records(**cap):\n",
    "    for key,value in cap.items():\n",
    "           print(f'{key}:{value}')\n",
    "records(itemname = 'cap', serialnumber = 8741, datein = '20/4/2020', quantity = 100)\n",
    "def records(**glass):\n",
    "    for key,value in glass.items():\n",
    "        print(f'{key}:{value}')\n",
    "records(itemname = 'glass', serialnumber = 6741, datein = '20/4/2020', quantity = 100)\n",
    "def records(**watch):\n",
    "    for key,value in watch.items():\n",
    "            print(f'{key}:{value}')\n",
    "records(itemname = 'watch', serialnumber = 1741, datein = '20/4/2020', quantity = 100) "
   ]
  },
  {
   "cell_type": "code",
   "execution_count": 122,
   "metadata": {},
   "outputs": [
    {
     "name": "stdout",
     "output_type": "stream",
     "text": [
      "Your bmi is:24.913494809688583\n",
      "Your weight is normal\n"
     ]
    }
   ],
   "source": [
    "height = 1.7\n",
    "weight = 72\n",
    "bmi = weight/(height**2)\n",
    "def bmi():\n",
    "    print(f'Your bmi is:{weight/(height**2)}')\n",
    "    bmi = weight/(height**2)\n",
    "    if float(weight/(height**2)) < 18.5:\n",
    "        print(f'You are underweight')\n",
    "    elif float(weight/(height**2)) >= 18.5 and bmi < 25:\n",
    "        print(f'Your weight is normal')\n",
    "    elif float(weight/(height**2)) >=25.0 and bmi <= 29.9:\n",
    "        print(f'You are overweight')\n",
    "    elif float(weight/(height**2)) >= 30.0:\n",
    "        print(f'You are obese')\n",
    "bmi()"
   ]
  },
  {
   "cell_type": "code",
   "execution_count": null,
   "metadata": {},
   "outputs": [],
   "source": []
  }
 ],
 "metadata": {
  "kernelspec": {
   "display_name": "Python 3",
   "language": "python",
   "name": "python3"
  },
  "language_info": {
   "codemirror_mode": {
    "name": "ipython",
    "version": 3
   },
   "file_extension": ".py",
   "mimetype": "text/x-python",
   "name": "python",
   "nbconvert_exporter": "python",
   "pygments_lexer": "ipython3",
   "version": "3.8.5"
  }
 },
 "nbformat": 4,
 "nbformat_minor": 4
}
