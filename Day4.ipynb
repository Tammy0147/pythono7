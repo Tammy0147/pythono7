{
 "cells": [
  {
   "cell_type": "markdown",
   "metadata": {},
   "source": [
    "# Modules"
   ]
  },
  {
   "cell_type": "code",
   "execution_count": 1,
   "metadata": {},
   "outputs": [],
   "source": [
    "import math"
   ]
  },
  {
   "cell_type": "code",
   "execution_count": 2,
   "metadata": {},
   "outputs": [
    {
     "name": "stdout",
     "output_type": "stream",
     "text": [
      "['__doc__', '__loader__', '__name__', '__package__', '__spec__', 'acos', 'acosh', 'asin', 'asinh', 'atan', 'atan2', 'atanh', 'ceil', 'comb', 'copysign', 'cos', 'cosh', 'degrees', 'dist', 'e', 'erf', 'erfc', 'exp', 'expm1', 'fabs', 'factorial', 'floor', 'fmod', 'frexp', 'fsum', 'gamma', 'gcd', 'hypot', 'inf', 'isclose', 'isfinite', 'isinf', 'isnan', 'isqrt', 'ldexp', 'lgamma', 'log', 'log10', 'log1p', 'log2', 'modf', 'nan', 'perm', 'pi', 'pow', 'prod', 'radians', 'remainder', 'sin', 'sinh', 'sqrt', 'tan', 'tanh', 'tau', 'trunc']\n"
     ]
    }
   ],
   "source": [
    "print(dir(math))"
   ]
  },
  {
   "cell_type": "code",
   "execution_count": 3,
   "metadata": {},
   "outputs": [],
   "source": [
    "numbers = 14.6"
   ]
  },
  {
   "cell_type": "code",
   "execution_count": 4,
   "metadata": {},
   "outputs": [
    {
     "name": "stdout",
     "output_type": "stream",
     "text": [
      "15\n"
     ]
    }
   ],
   "source": [
    "print(math.ceil(numbers))"
   ]
  },
  {
   "cell_type": "code",
   "execution_count": 5,
   "metadata": {},
   "outputs": [
    {
     "name": "stdout",
     "output_type": "stream",
     "text": [
      "14\n"
     ]
    }
   ],
   "source": [
    "print(math.floor(numbers))"
   ]
  },
  {
   "cell_type": "markdown",
   "metadata": {},
   "source": [
    "# Statistics"
   ]
  },
  {
   "cell_type": "code",
   "execution_count": 6,
   "metadata": {},
   "outputs": [
    {
     "name": "stdout",
     "output_type": "stream",
     "text": [
      "['Counter', 'Decimal', 'Fraction', 'NormalDist', 'StatisticsError', '__all__', '__builtins__', '__cached__', '__doc__', '__file__', '__loader__', '__name__', '__package__', '__spec__', '_coerce', '_convert', '_exact_ratio', '_fail_neg', '_find_lteq', '_find_rteq', '_isfinite', '_normal_dist_inv_cdf', '_ss', '_sum', 'bisect_left', 'bisect_right', 'erf', 'exp', 'fabs', 'fmean', 'fsum', 'geometric_mean', 'groupby', 'harmonic_mean', 'hypot', 'itemgetter', 'log', 'math', 'mean', 'median', 'median_grouped', 'median_high', 'median_low', 'mode', 'multimode', 'numbers', 'pstdev', 'pvariance', 'quantiles', 'random', 'sqrt', 'stdev', 'tau', 'variance']\n"
     ]
    }
   ],
   "source": [
    "import statistics as stat\n",
    "print(dir(stat))"
   ]
  },
  {
   "cell_type": "code",
   "execution_count": 19,
   "metadata": {},
   "outputs": [],
   "source": [
    "numbers = [7,8,15,10,23,20,15,55,68,15,25,80,15,26,48,79]"
   ]
  },
  {
   "cell_type": "code",
   "execution_count": 8,
   "metadata": {},
   "outputs": [
    {
     "name": "stdout",
     "output_type": "stream",
     "text": [
      "31.8125\n"
     ]
    }
   ],
   "source": [
    "print(stat.mean(numbers))"
   ]
  },
  {
   "cell_type": "code",
   "execution_count": 9,
   "metadata": {},
   "outputs": [
    {
     "name": "stdout",
     "output_type": "stream",
     "text": [
      "31.81\n"
     ]
    }
   ],
   "source": [
    "print(round(stat.mean(numbers),2))"
   ]
  },
  {
   "cell_type": "markdown",
   "metadata": {},
   "source": [
    "# Random"
   ]
  },
  {
   "cell_type": "code",
   "execution_count": 10,
   "metadata": {},
   "outputs": [
    {
     "name": "stdout",
     "output_type": "stream",
     "text": [
      "['BPF', 'LOG4', 'NV_MAGICCONST', 'RECIP_BPF', 'Random', 'SG_MAGICCONST', 'SystemRandom', 'TWOPI', '_Sequence', '_Set', '__all__', '__builtins__', '__cached__', '__doc__', '__file__', '__loader__', '__name__', '__package__', '__spec__', '_accumulate', '_acos', '_bisect', '_ceil', '_cos', '_e', '_exp', '_inst', '_log', '_os', '_pi', '_random', '_repeat', '_sha512', '_sin', '_sqrt', '_test', '_test_generator', '_urandom', '_warn', 'betavariate', 'choice', 'choices', 'expovariate', 'gammavariate', 'gauss', 'getrandbits', 'getstate', 'lognormvariate', 'normalvariate', 'paretovariate', 'randint', 'random', 'randrange', 'sample', 'seed', 'setstate', 'shuffle', 'triangular', 'uniform', 'vonmisesvariate', 'weibullvariate']\n"
     ]
    }
   ],
   "source": [
    "import random\n",
    "print(dir(random))"
   ]
  },
  {
   "cell_type": "code",
   "execution_count": 14,
   "metadata": {},
   "outputs": [
    {
     "data": {
      "text/plain": [
       "14"
      ]
     },
     "execution_count": 14,
     "metadata": {},
     "output_type": "execute_result"
    }
   ],
   "source": [
    "random.randint(10,15)"
   ]
  },
  {
   "cell_type": "code",
   "execution_count": 15,
   "metadata": {},
   "outputs": [
    {
     "data": {
      "text/plain": [
       "80"
      ]
     },
     "execution_count": 15,
     "metadata": {},
     "output_type": "execute_result"
    }
   ],
   "source": [
    "random.choice(numbers)"
   ]
  },
  {
   "cell_type": "code",
   "execution_count": 20,
   "metadata": {},
   "outputs": [],
   "source": [
    "random.shuffle(numbers)"
   ]
  },
  {
   "cell_type": "code",
   "execution_count": 21,
   "metadata": {},
   "outputs": [
    {
     "name": "stdout",
     "output_type": "stream",
     "text": [
      "[15, 20, 15, 68, 25, 79, 26, 7, 15, 15, 8, 48, 55, 80, 23, 10]\n"
     ]
    }
   ],
   "source": [
    "print(numbers)"
   ]
  },
  {
   "cell_type": "code",
   "execution_count": 23,
   "metadata": {},
   "outputs": [
    {
     "name": "stdout",
     "output_type": "stream",
     "text": [
      "Please provide a number:18\n",
      "Yes 18 is greater than 15\n"
     ]
    }
   ],
   "source": [
    "num = int(input('Please provide a number:'))\n",
    "if num > 15:\n",
    "    print(f'Yes {num} is greater than 15')# you will have a true output if the set condition is true"
   ]
  },
  {
   "cell_type": "code",
   "execution_count": 26,
   "metadata": {},
   "outputs": [
    {
     "name": "stdout",
     "output_type": "stream",
     "text": [
      "Please provide a number:7\n",
      "No 7 is less than 15\n"
     ]
    }
   ],
   "source": [
    "num = int(input('Please provide a number:'))\n",
    "if num > 15:\n",
    "    print(f'Yes {num} is greater than 15')\n",
    "else:    \n",
    "     print(f'No {num} is less than 15')# You will have a true output if the set condition is true and if the condition is not true then the expression under the else block will be display"
   ]
  },
  {
   "cell_type": "markdown",
   "metadata": {},
   "source": [
    "# A family whose total monthly salary is #500000 makes an estimate as follows\n",
    "# Housing = 25%\n",
    "# Food = 35%\n",
    "# Fuel = 10%\n",
    "# Entertainment = 5%\n",
    "# clothing = 10%\n",
    "# Savings = 15%\n",
    "# Write a program to check if the budget is realistic or not realistic"
   ]
  },
  {
   "cell_type": "code",
   "execution_count": 36,
   "metadata": {},
   "outputs": [
    {
     "name": "stdout",
     "output_type": "stream",
     "text": [
      "your estimated budget is 500000 which is less than or equal to your salary, therefore your budget is realistic\n"
     ]
    }
   ],
   "source": [
    "salary = 500000\n",
    "housing = 125000\n",
    "food = 175000\n",
    "fuel = 50000\n",
    "ent = 25000\n",
    "cloth = 50000\n",
    "savings = 75000\n",
    "budget = housing + food + fuel + ent + cloth + savings\n",
    "if budget > salary:\n",
    "    print(f'your estimated budget is {budget} which is greater than your salary, therefore your budget is not realistic')\n",
    "else:\n",
    "     print(f'your estimated budget is {budget} which is less than or equal to your salary, therefore your budget is realistic')   "
   ]
  },
  {
   "cell_type": "code",
   "execution_count": 39,
   "metadata": {},
   "outputs": [
    {
     "name": "stdout",
     "output_type": "stream",
     "text": [
      "Math Score:25\n",
      "English Score:42\n",
      "Physics Score:15\n",
      "Chemstry Score:30\n",
      "Biology Score:42\n",
      "Your Average Score in five subjects is 30.8 and your grade is F\n"
     ]
    }
   ],
   "source": [
    "sub1 = int(input('Math Score:'))\n",
    "sub2 = int(input('English Score:'))\n",
    "sub3 = int(input('Physics Score:'))\n",
    "sub4 = int(input('Chemstry Score:'))    \n",
    "sub5 = int(input('Biology Score:'))\n",
    "Avg = (sub1 + sub2 + sub3 + sub4 + sub5)/ 5\n",
    "if Avg >= 70 and Avg <= 100:\n",
    "    print(f'Your Average Score in five subjects is {Avg} and your grade is A')\n",
    "elif Avg >=60 and Avg <=69.99:\n",
    "      print(f'Your Average Score in five subjects is {Avg} and your grade is B')\n",
    "elif Avg >=50 and Avg <=59.99:\n",
    "      print(f'Your Average Score in five subjects is {Avg} and your grade is C') \n",
    "elif Avg >=45 and Avg <=49.99:\n",
    "      print(f'Your Average Score in five subjects is {Avg} and your grade is D')\n",
    "elif Avg >=40 and Avg <=45:\n",
    "      print(f'Your Average Score in five subjects is {Avg} and your grade is E')\n",
    "else:\n",
    "     print(f'Your Average Score in five subjects is {Avg} and your grade is F')       "
   ]
  },
  {
   "cell_type": "code",
   "execution_count": null,
   "metadata": {},
   "outputs": [],
   "source": []
  }
 ],
 "metadata": {
  "kernelspec": {
   "display_name": "Python 3",
   "language": "python",
   "name": "python3"
  },
  "language_info": {
   "codemirror_mode": {
    "name": "ipython",
    "version": 3
   },
   "file_extension": ".py",
   "mimetype": "text/x-python",
   "name": "python",
   "nbconvert_exporter": "python",
   "pygments_lexer": "ipython3",
   "version": "3.8.5"
  }
 },
 "nbformat": 4,
 "nbformat_minor": 4
}
