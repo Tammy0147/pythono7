{
 "cells": [
  {
   "cell_type": "markdown",
   "metadata": {},
   "source": [
    "# write a python program to find those numbers that are divisible by 7 and multiple of 5 between 1500 and 2700"
   ]
  },
  {
   "cell_type": "code",
   "execution_count": 3,
   "metadata": {},
   "outputs": [
    {
     "name": "stdout",
     "output_type": "stream",
     "text": [
      "[1505, 1540, 1575, 1610, 1645, 1680, 1715, 1750, 1785, 1820, 1855, 1890, 1925, 1960, 1995, 2030, 2065, 2100, 2135, 2170, 2205, 2240, 2275, 2310, 2345, 2380, 2415, 2450, 2485, 2520, 2555, 2590, 2625, 2660, 2695]\n"
     ]
    }
   ],
   "source": [
    "numbers = []\n",
    "for x in range(1500,2701):\n",
    "    if (x % 7 == 0) and (x%5 == 0):\n",
    "        numbers.append(x)\n",
    "print(numbers)        "
   ]
  },
  {
   "cell_type": "markdown",
   "metadata": {},
   "source": [
    "# write a program to accept a word from a user and reverse it"
   ]
  },
  {
   "cell_type": "code",
   "execution_count": 4,
   "metadata": {},
   "outputs": [
    {
     "name": "stdout",
     "output_type": "stream",
     "text": [
      "please provide a word:davis\n",
      "sivad\n"
     ]
    }
   ],
   "source": [
    "word = input('please provide a word:')\n",
    "print(word[::-1])"
   ]
  },
  {
   "cell_type": "markdown",
   "metadata": {},
   "source": [
    "# write a python program that prints all numbers from 0 to 6 except 3 and 6"
   ]
  },
  {
   "cell_type": "code",
   "execution_count": 7,
   "metadata": {},
   "outputs": [
    {
     "name": "stdout",
     "output_type": "stream",
     "text": [
      "0 1 2 4 5 "
     ]
    }
   ],
   "source": [
    "for x in range(6):\n",
    "    if (x ==3 or x == 6):\n",
    "        continue\n",
    "    print(x, end=' ')    "
   ]
  },
  {
   "cell_type": "code",
   "execution_count": 6,
   "metadata": {},
   "outputs": [],
   "source": [
    "file = open('demo.doc','w')\n",
    "file.write('''python is fun\n",
    "python has an interactive environment\n",
    "python is easy to learn\n",
    "''')\n",
    "file.close()"
   ]
  },
  {
   "cell_type": "code",
   "execution_count": 10,
   "metadata": {},
   "outputs": [
    {
     "name": "stdout",
     "output_type": "stream",
     "text": [
      "python is fun\n",
      "python has an interactive environment\n",
      "python is easy to learn\n",
      "\n"
     ]
    }
   ],
   "source": [
    "file1 = open('demo.doc','r')\n",
    "print(file1.read())\n",
    "file1.close()"
   ]
  },
  {
   "cell_type": "code",
   "execution_count": 12,
   "metadata": {},
   "outputs": [],
   "source": [
    "file2 = open('demo.doc','a')\n",
    "file2.write('''\\npython is also an high level language\n",
    "python is a general purpose language\n",
    "Research said that 90% of python users are data scientists\n",
    "''')\n",
    "file2.close()"
   ]
  },
  {
   "cell_type": "code",
   "execution_count": 13,
   "metadata": {},
   "outputs": [
    {
     "name": "stdout",
     "output_type": "stream",
     "text": [
      "python is fun\n",
      "python has an interactive environment\n",
      "python is easy to learn\n",
      "\n",
      "python is also an high level language\n",
      "python is a general purpose language\n",
      "Research said that 90% of python users are data scientists\n",
      "\n",
      "python is also an high level language\n",
      "python is a general purpose language\n",
      "Research said that 90% of python users are data scientists\n",
      "\n"
     ]
    }
   ],
   "source": [
    "file2 = open('demo.doc','r')\n",
    "print(file2.read())\n",
    "file2.close()"
   ]
  },
  {
   "cell_type": "code",
   "execution_count": 15,
   "metadata": {},
   "outputs": [
    {
     "name": "stdout",
     "output_type": "stream",
     "text": [
      "python is created from c++an interactive environment\n",
      "python is easy to learn\n",
      "\n",
      "python is also an high level language\n",
      "python is a general purpose language\n",
      "Research said that 90% of python users are data scientists\n",
      "\n",
      "python is also an high level language\n",
      "python is a general purpose language\n",
      "Research said that 90% of python users are data scientists\n",
      "\n"
     ]
    }
   ],
   "source": [
    "file3 = open('demo.doc','r+')# read b4 write\n",
    "print(file3.read())\n",
    "file3.write('python is created from c++')\n",
    "file3.close()"
   ]
  },
  {
   "cell_type": "markdown",
   "metadata": {},
   "source": [
    "# create a text file called guest\n",
    "# write to the file 10 guest(name and time of arrival)\n",
    "# read and add 5 extra guests"
   ]
  },
  {
   "cell_type": "code",
   "execution_count": 18,
   "metadata": {},
   "outputs": [],
   "source": [
    "guest = open('guest.txt','w')\n",
    "guest.write('''name: Davis, Time:10am\n",
    "name: Sammy, Time:9am\n",
    "name: Tunde, Time:12pm\n",
    "name: Ik, Time:8am\n",
    "name: Emmanuel, Time:3pm\n",
    "name: Salami, Time:4am\n",
    "name: Tega, Time:1am\n",
    "name: Najib, Time:2pm\n",
    "name: Sarah, Time:10pm\n",
    "name: Sefiatu, Time:11am\n",
    "''')\n",
    "guest.close()"
   ]
  },
  {
   "cell_type": "code",
   "execution_count": 20,
   "metadata": {},
   "outputs": [
    {
     "name": "stdout",
     "output_type": "stream",
     "text": [
      "name: Davis, Time:10am\n",
      "name: Sammy, Time:9am\n",
      "name: Tunde, Time:12pm\n",
      "name: Ik, Time:8am\n",
      "name: Emmanuel, Time:3pm\n",
      "name: Salami, Time:4am\n",
      "name: Tega, Time:1am\n",
      "name: Najib, Time:2pm\n",
      "name: Sarah, Time:10pm\n",
      "name: Sefiatu, Time:11am\n",
      "\n"
     ]
    }
   ],
   "source": [
    "guest1 = open('guest1.txt','r')\n",
    "print(guest1.read())\n",
    "guest.close()"
   ]
  },
  {
   "cell_type": "code",
   "execution_count": 24,
   "metadata": {},
   "outputs": [],
   "source": [
    "guest2 = open('guest2.txt','a')\n",
    "guest2.write('''\\nname: Danny, Time:10am\n",
    "name: Bash, Time:11pm\n",
    "name: Kabiru, Time:10pm\n",
    "name: Lola, Time:2am\n",
    "name: Sola, Time:10am\n",
    "''')\n",
    "guest2.close()"
   ]
  },
  {
   "cell_type": "code",
   "execution_count": null,
   "metadata": {},
   "outputs": [],
   "source": []
  }
 ],
 "metadata": {
  "kernelspec": {
   "display_name": "Python 3",
   "language": "python",
   "name": "python3"
  },
  "language_info": {
   "codemirror_mode": {
    "name": "ipython",
    "version": 3
   },
   "file_extension": ".py",
   "mimetype": "text/x-python",
   "name": "python",
   "nbconvert_exporter": "python",
   "pygments_lexer": "ipython3",
   "version": "3.8.5"
  }
 },
 "nbformat": 4,
 "nbformat_minor": 4
}
